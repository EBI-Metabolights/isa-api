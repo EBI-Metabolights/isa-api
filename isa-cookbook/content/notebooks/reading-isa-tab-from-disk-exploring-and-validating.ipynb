{
 "cells": [
  {
   "cell_type": "markdown",
   "metadata": {},
   "source": [
    "# Reading ISA-Tab from files and Validating ISA-Tab files "
   ]
  },
  {
   "cell_type": "markdown",
   "metadata": {},
   "source": [
    "## Abstract:\n",
    "\n",
    "The aim of this notebook is to:\n",
    "   - show essential function to read and load an ISA-tab file in memory.\n",
    "   - navigate key objects and pull key attributes.\n",
    "   - learn how to invoke the ISA-tab validation function.\n",
    "   - interpret the output of the validation report.\n"
   ]
  },
  {
   "cell_type": "markdown",
   "metadata": {},
   "source": [
    "## 1. Getting the tools"
   ]
  },
  {
   "cell_type": "code",
   "execution_count": 1,
   "metadata": {},
   "outputs": [],
   "source": [
    "# If executing the notebooks on `Google Colab`,uncomment the following command \n",
    "# and run it to install the required python libraries. Also, make the test datasets available.\n",
    "\n",
    "# !pip install -r requirements.txt"
   ]
  },
  {
   "cell_type": "code",
   "execution_count": 2,
   "metadata": {},
   "outputs": [
    {
     "name": "stdout",
     "output_type": "stream",
     "text": [
      "log_level: error\n",
      "LOG: <Logger isatools (DEBUG)>\n",
      "/Users/philippe/.pyenv/versions/3.7.4/envs/isapi-testson374/src/isatools/isatools/net/resources/saxon9/saxon9he.jar\n"
     ]
    }
   ],
   "source": [
    "import isatools\n",
    "import os\n",
    "import sys\n",
    "from isatools import isatab"
   ]
  },
  {
   "cell_type": "markdown",
   "metadata": {},
   "source": [
    "## 2. Reading and loading an ISA Investigation in memory from an ISA-Tab instance"
   ]
  },
  {
   "cell_type": "code",
   "execution_count": 3,
   "metadata": {},
   "outputs": [],
   "source": [
    "with open(os.path.join('./BII-S-3', 'i_gilbert.txt')) as fp:\n",
    "            ISA = isatab.load(fp)"
   ]
  },
  {
   "cell_type": "markdown",
   "metadata": {},
   "source": [
    "### Let's check the description of the first study object present in an ISA Investigation object"
   ]
  },
  {
   "cell_type": "code",
   "execution_count": 4,
   "metadata": {},
   "outputs": [
    {
     "data": {
      "text/plain": [
       "'Sequencing the metatranscriptome can provide information about the response of organisms to varying environmental conditions. We present a methodology for obtaining random whole-community mRNA from a complex microbial assemblage using Pyrosequencing. The metatranscriptome had, with minimum contamination by ribosomal RNA, significant coverage of abundant transcripts, and included significantly more potentially novel proteins than in the metagenome. This experiment is part of a much larger experiment. We have produced 4 454 metatranscriptomic datasets and 6 454 metagenomic datasets. These were derived from 4 samples.'"
      ]
     },
     "execution_count": 4,
     "metadata": {},
     "output_type": "execute_result"
    }
   ],
   "source": [
    "ISA.studies[0].description"
   ]
  },
  {
   "cell_type": "markdown",
   "metadata": {},
   "source": [
    "### Let's check the protocols declared in ISA the study (using a python list comprehension):"
   ]
  },
  {
   "cell_type": "code",
   "execution_count": 5,
   "metadata": {},
   "outputs": [
    {
     "data": {
      "text/plain": [
       "['Waters samples were prefiltered through a 1.6 um GF/A glass fibre filter to reduce Eukaryotic contamination. Filtrate was then collected on a 0.2 um Sterivex (millipore) filter which was frozen in liquid nitrogen until nucelic acid extraction. CO2 bubbled through 11000 L mesocosm to simulate ocean acidification predicted conditions. Then phosphate and nitrate were added to induce a phytoplankton bloom.',\n",
       " 'Total nucleic acid extraction was done as quickly as possible using the method of Neufeld et al, 2007.',\n",
       " 'RNA MinElute + substrative Hybridization + MEGAclear For transcriptomics, total RNA was separated from the columns using the RNA MinElute clean-up kit (Qiagen) and checked for integrity of rRNA using an Agilent bioanalyser (RNA nano6000 chip). High integrity rRNA is essential for subtractive hybridization. Samples were treated with Turbo DNA-free enzyme (Ambion) to remove contaminating DNA. The rRNA was removed from mRNA by subtractive hybridization (Microbe Express Kit, Ambion), and absence of rRNA and DNA contamination was confirmed using the Agilent bioanalyser. The mRNA was further purified with the MEGAclearTM kit (Ambion). Reverse transcription of mRNA was performed using the SuperScript III enzyme (Invitrogen) with random hexamer primers (Promega). The cDNA was treated with RiboShredderTM RNase Blend (Epicentre) to remove trace RNA contaminants. To improve the yield of cDNA, samples were subjected to random amplification using the GenomiPhi V2 method (GE Healthcare). GenomiPhi technology produces branched DNA molecules that are recalcitrant to the pyrosequencing methodology. Therefore amplified samples were treated with S1 nuclease using the method of Zhang et al.2006.',\n",
       " '',\n",
       " 'superscript+random hexamer primer',\n",
       " '',\n",
       " '1. Sample Input and Fragmentation: The Genome Sequencer FLX System supports the sequencing of samples from a wide variety of starting materials including genomic DNA, PCR products, BACs, and cDNA. Samples such as genomic DNA and BACs are fractionated into small, 300- to 800-base pair fragments. For smaller samples, such as small non-coding RNA or PCR amplicons, fragmentation is not required. Instead, short PCR products amplified using Genome Sequencer fusion primers can be used for immobilization onto DNA capture beads as shown below.',\n",
       " '']"
      ]
     },
     "execution_count": 5,
     "metadata": {},
     "output_type": "execute_result"
    }
   ],
   "source": [
    "[protocol.description for protocol in ISA.studies[0].protocols]"
   ]
  },
  {
   "cell_type": "markdown",
   "metadata": {},
   "source": [
    "### Let's now checks the ISA Assay Measurement and Technology Types  are used in this ISA Study object"
   ]
  },
  {
   "cell_type": "code",
   "execution_count": 6,
   "metadata": {},
   "outputs": [
    {
     "data": {
      "text/plain": [
       "['metagenome sequencing using nucleotide sequencing',\n",
       " 'transcription profiling using nucleotide sequencing']"
      ]
     },
     "execution_count": 6,
     "metadata": {},
     "output_type": "execute_result"
    }
   ],
   "source": [
    "[f'{assay.measurement_type.term} using {assay.technology_type.term}' for assay in ISA.studies[0].assays]"
   ]
  },
  {
   "cell_type": "markdown",
   "metadata": {},
   "source": [
    "### Let's now check the `ISA Study Source` Material:"
   ]
  },
  {
   "cell_type": "code",
   "execution_count": 7,
   "metadata": {},
   "outputs": [
    {
     "data": {
      "text/plain": [
       "['GSM255770', 'GSM255771', 'GSM255772', 'GSM255773']"
      ]
     },
     "execution_count": 7,
     "metadata": {},
     "output_type": "execute_result"
    }
   ],
   "source": [
    "[source.name for source in ISA.studies[0].sources]"
   ]
  },
  {
   "cell_type": "markdown",
   "metadata": {},
   "source": [
    "#### Let's check what is the first `ISA Study Source property`:"
   ]
  },
  {
   "cell_type": "code",
   "execution_count": 8,
   "metadata": {},
   "outputs": [],
   "source": [
    "# here, we get all the characteristics of the first Source object\n",
    "first_source_characteristics = ISA.studies[0].sources[0].characteristics"
   ]
  },
  {
   "cell_type": "code",
   "execution_count": 9,
   "metadata": {},
   "outputs": [
    {
     "data": {
      "text/plain": [
       "'organism'"
      ]
     },
     "execution_count": 9,
     "metadata": {},
     "output_type": "execute_result"
    }
   ],
   "source": [
    "first_source_characteristics[0].category.term"
   ]
  },
  {
   "cell_type": "markdown",
   "metadata": {},
   "source": [
    "#### Let's now check what is the `value` associated with that first `ISA Study Source property`:"
   ]
  },
  {
   "cell_type": "code",
   "execution_count": 10,
   "metadata": {},
   "outputs": [
    {
     "data": {
      "text/plain": [
       "'marine metagenome'"
      ]
     },
     "execution_count": 10,
     "metadata": {},
     "output_type": "execute_result"
    }
   ],
   "source": [
    "first_source_characteristics[0].value.term"
   ]
  },
  {
   "cell_type": "markdown",
   "metadata": {},
   "source": [
    "#### Let's now check what are all the properties associated with this first `ISA Study Source`"
   ]
  },
  {
   "cell_type": "code",
   "execution_count": 11,
   "metadata": {},
   "outputs": [
    {
     "data": {
      "text/plain": [
       "['organism',\n",
       " 'geographic location (country and/or sea,region)',\n",
       " 'geographic location (longitude)',\n",
       " 'geographic location (latitude)',\n",
       " 'chlorophyll a concentration',\n",
       " 'fucoxanthin concentration',\n",
       " 'peridinin concentration',\n",
       " 'butfucoxanthin concentration',\n",
       " 'hexfucoxanthin concentration',\n",
       " 'alloxanthin concentration',\n",
       " 'zeaxanthin concentration',\n",
       " 'lutein concentration',\n",
       " 'chl-c3 concentration',\n",
       " 'chl-c2 concentration',\n",
       " 'prasinoxanthin concentration',\n",
       " 'neoxanthin concentration',\n",
       " 'violaxanthin concentration',\n",
       " 'diadinoxanthin concentration',\n",
       " 'diatoxanthin concentration',\n",
       " 'divinyl-chl-b concentration',\n",
       " 'chl-b concentration',\n",
       " 'divinyl-chl-a concentration',\n",
       " 'chl-a concentration',\n",
       " 'BB carotene concentration',\n",
       " 'bacteria count',\n",
       " 'synechococcus count',\n",
       " 'small picoeukaryotes count',\n",
       " 'large picoeukaryotes count',\n",
       " 'nanoflagellates count',\n",
       " 'cryptophytes count',\n",
       " 'phosphate concentration',\n",
       " 'nitrate concentration',\n",
       " 'particulate organic nitrogen concentration',\n",
       " 'particulate organic carbon concentration',\n",
       " 'primary production depth integrated production to 3 m expressed_in mgC m-2 d-1',\n",
       " 'water salinity',\n",
       " 'fluorescence',\n",
       " 'water temperature at 3 meter depth']"
      ]
     },
     "execution_count": 11,
     "metadata": {},
     "output_type": "execute_result"
    }
   ],
   "source": [
    "[char.category.term for char in first_source_characteristics]"
   ]
  },
  {
   "cell_type": "markdown",
   "metadata": {},
   "source": [
    "#### And the corresponding values are:"
   ]
  },
  {
   "cell_type": "code",
   "execution_count": 12,
   "metadata": {},
   "outputs": [
    {
     "data": {
      "text/plain": [
       "[isatools.model.OntologyAnnotation(term='marine metagenome', term_source=isatools.model.OntologySource(name='NCBITAXON', file='http://data.bioontology.org/ontologies/NCBITAXON', version='2', description='National Center for Biotechnology Information (NCBI) Organismal Classification', comments=[]), term_accession='http://purl.obolibrary.org/obo/NCBITaxon_408172', comments=[]),\n",
       " isatools.model.OntologyAnnotation(term='Norway, fjord, coastal', term_source=None, term_accession='', comments=[]),\n",
       " '5.222222',\n",
       " '60.269444',\n",
       " '9.23',\n",
       " '0.54',\n",
       " '0.18',\n",
       " '0.14',\n",
       " '0.82',\n",
       " '0.36',\n",
       " '0.35',\n",
       " '0.37',\n",
       " '0.29',\n",
       " '0.59',\n",
       " '0',\n",
       " '0',\n",
       " '0.64',\n",
       " '0.46',\n",
       " '0.1',\n",
       " '0',\n",
       " '5.25',\n",
       " '0',\n",
       " '9.23',\n",
       " '0.72',\n",
       " '4666004',\n",
       " '7064',\n",
       " '36257',\n",
       " '5450',\n",
       " '2851',\n",
       " '660',\n",
       " '0.23',\n",
       " '7.53',\n",
       " '143',\n",
       " '844',\n",
       " '591.4',\n",
       " '31.3',\n",
       " isatools.model.OntologyAnnotation(term='17.6', term_source=None, term_accession='', comments=[]),\n",
       " '9.7']"
      ]
     },
     "execution_count": 12,
     "metadata": {},
     "output_type": "execute_result"
    }
   ],
   "source": [
    "[char.value for char in first_source_characteristics]"
   ]
  },
  {
   "cell_type": "markdown",
   "metadata": {},
   "source": [
    "## 3. Invoking the python ISA-Tab Validator"
   ]
  },
  {
   "cell_type": "code",
   "execution_count": 13,
   "metadata": {},
   "outputs": [
    {
     "name": "stderr",
     "output_type": "stream",
     "text": [
      "2021-07-13 21:29:51,860 [INFO]: isatab.py(validate:4212) >> Loading... ./BII-I-1/i_investigation.txt\n",
      "2021-07-13 21:29:52,110 [INFO]: isatab.py(validate:4214) >> Running prechecks...\n",
      "2021-07-13 21:29:52,338 [WARNING]: isatab.py(check_doi:2183) >> (W) DOI doi:10.1186/jbiol54 does not conform to DOI format\n",
      "2021-07-13 21:29:52,339 [WARNING]: isatab.py(check_doi:2183) >> (W) DOI doi:10.1186/jbiol54 does not conform to DOI format\n",
      "2021-07-13 21:29:52,340 [INFO]: isatab.py(validate:4235) >> Finished prechecks...\n",
      "2021-07-13 21:29:52,340 [INFO]: isatab.py(validate:4236) >> Loading configurations found in /Users/philippe/.pyenv/versions/3.7.4/envs/isapi-testson374/src/isatools/isatools/resources/config/xml\n",
      "2021-07-13 21:29:52,369 [INFO]: isatab.py(validate:4241) >> Using configurations found in /Users/philippe/.pyenv/versions/3.7.4/envs/isapi-testson374/src/isatools/isatools/resources/config/xml\n",
      "2021-07-13 21:29:52,370 [INFO]: isatab.py(validate:4243) >> Checking investigation file against configuration...\n",
      "2021-07-13 21:29:52,373 [WARNING]: isatab.py(check_section_against_required_fields_one_value:3357) >> (W) A property value in Study Publication DOI.2 of investigation file at column 1 is required\n",
      "2021-07-13 21:29:52,374 [WARNING]: isatab.py(check_section_against_required_fields_one_value:3357) >> (W) A property value in Study Publication Author List.2 of investigation file at column 1 is required\n",
      "2021-07-13 21:29:52,375 [INFO]: isatab.py(validate:4246) >> Finished checking investigation file\n",
      "2021-07-13 21:29:52,376 [INFO]: isatab.py(validate:4265) >> Loading... s_BII-S-1.txt\n",
      "2021-07-13 21:29:52,384 [INFO]: isatab.py(validate:4272) >> Validating s_BII-S-1.txt against default study table configuration\n",
      "2021-07-13 21:29:52,385 [INFO]: isatab.py(validate:4273) >> Checking Factor Value presence...\n",
      "2021-07-13 21:29:52,391 [INFO]: isatab.py(validate:4276) >> Checking required fields...\n",
      "2021-07-13 21:29:52,392 [INFO]: isatab.py(validate:4279) >> Checking generic fields...\n",
      "2021-07-13 21:29:52,447 [INFO]: isatab.py(validate:4287) >> Checking unit fields...\n",
      "2021-07-13 21:29:52,448 [INFO]: isatab.py(validate:4294) >> Checking protocol fields...\n",
      "2021-07-13 21:29:52,449 [WARNING]: isatab.py(check_protocol_fields:4030) >> (W) Protocol(s) of type ['sample collection'] defined in the ISA-configuration expected as a between 'Source Name' and 'Sample Name' but has not been found, in the file 's_BII-S-1.txt'\n",
      "2021-07-13 21:29:52,450 [WARNING]: isatab.py(validate:4303) >> (W) There are some protocol inconsistencies in s_BII-S-1.txt against Study Sample configuration\n",
      "2021-07-13 21:29:52,450 [INFO]: isatab.py(validate:4304) >> Checking ontology fields...\n",
      "2021-07-13 21:29:52,499 [INFO]: isatab.py(validate:4314) >> Checking study group size...\n",
      "2021-07-13 21:29:52,504 [INFO]: isatab.py(validate:4319) >> Finished validation on s_BII-S-1.txt\n",
      "2021-07-13 21:29:52,505 [INFO]: isatab.py(validate:4356) >> Loading... a_proteome.txt\n",
      "2021-07-13 21:29:52,513 [INFO]: isatab.py(validate:4368) >> Validating a_proteome.txt against assay table configuration (protein expression profiling, mass spectrometry)...\n",
      "2021-07-13 21:29:52,514 [INFO]: isatab.py(validate:4370) >> Checking Factor Value presence...\n",
      "2021-07-13 21:29:52,523 [WARNING]: isatab.py(check_factor_value_presence:3671) >> (W) Missing value for 'Factor Value[limiting nutrient]' at row 3 in a_proteome.txt\n",
      "2021-07-13 21:29:52,524 [WARNING]: isatab.py(check_factor_value_presence:3671) >> (W) Missing value for 'Factor Value[limiting nutrient]' at row 4 in a_proteome.txt\n",
      "2021-07-13 21:29:52,524 [WARNING]: isatab.py(check_factor_value_presence:3671) >> (W) Missing value for 'Factor Value[limiting nutrient]' at row 5 in a_proteome.txt\n",
      "2021-07-13 21:29:52,525 [WARNING]: isatab.py(check_factor_value_presence:3671) >> (W) Missing value for 'Factor Value[limiting nutrient]' at row 9 in a_proteome.txt\n",
      "2021-07-13 21:29:52,526 [WARNING]: isatab.py(check_factor_value_presence:3671) >> (W) Missing value for 'Factor Value[limiting nutrient]' at row 10 in a_proteome.txt\n",
      "2021-07-13 21:29:52,527 [WARNING]: isatab.py(check_factor_value_presence:3671) >> (W) Missing value for 'Factor Value[limiting nutrient]' at row 11 in a_proteome.txt\n",
      "2021-07-13 21:29:52,528 [WARNING]: isatab.py(check_factor_value_presence:3671) >> (W) Missing value for 'Factor Value[limiting nutrient]' at row 14 in a_proteome.txt\n",
      "2021-07-13 21:29:52,529 [WARNING]: isatab.py(check_factor_value_presence:3671) >> (W) Missing value for 'Factor Value[limiting nutrient]' at row 15 in a_proteome.txt\n",
      "2021-07-13 21:29:52,530 [WARNING]: isatab.py(check_factor_value_presence:3671) >> (W) Missing value for 'Factor Value[limiting nutrient]' at row 16 in a_proteome.txt\n",
      "2021-07-13 21:29:52,531 [WARNING]: isatab.py(check_factor_value_presence:3671) >> (W) Missing value for 'Factor Value[limiting nutrient]' at row 17 in a_proteome.txt\n",
      "2021-07-13 21:29:52,545 [WARNING]: isatab.py(check_factor_value_presence:3671) >> (W) Missing value for 'Factor Value[rate]' at row 3 in a_proteome.txt\n",
      "2021-07-13 21:29:52,547 [WARNING]: isatab.py(check_factor_value_presence:3671) >> (W) Missing value for 'Factor Value[rate]' at row 4 in a_proteome.txt\n",
      "2021-07-13 21:29:52,548 [WARNING]: isatab.py(check_factor_value_presence:3671) >> (W) Missing value for 'Factor Value[rate]' at row 5 in a_proteome.txt\n",
      "2021-07-13 21:29:52,550 [WARNING]: isatab.py(check_factor_value_presence:3671) >> (W) Missing value for 'Factor Value[rate]' at row 9 in a_proteome.txt\n",
      "2021-07-13 21:29:52,550 [WARNING]: isatab.py(check_factor_value_presence:3671) >> (W) Missing value for 'Factor Value[rate]' at row 10 in a_proteome.txt\n",
      "2021-07-13 21:29:52,551 [WARNING]: isatab.py(check_factor_value_presence:3671) >> (W) Missing value for 'Factor Value[rate]' at row 11 in a_proteome.txt\n",
      "2021-07-13 21:29:52,552 [WARNING]: isatab.py(check_factor_value_presence:3671) >> (W) Missing value for 'Factor Value[rate]' at row 14 in a_proteome.txt\n",
      "2021-07-13 21:29:52,553 [WARNING]: isatab.py(check_factor_value_presence:3671) >> (W) Missing value for 'Factor Value[rate]' at row 15 in a_proteome.txt\n",
      "2021-07-13 21:29:52,554 [WARNING]: isatab.py(check_factor_value_presence:3671) >> (W) Missing value for 'Factor Value[rate]' at row 16 in a_proteome.txt\n",
      "2021-07-13 21:29:52,555 [WARNING]: isatab.py(check_factor_value_presence:3671) >> (W) Missing value for 'Factor Value[rate]' at row 17 in a_proteome.txt\n",
      "2021-07-13 21:29:52,556 [INFO]: isatab.py(validate:4373) >> Checking required fields...\n",
      "2021-07-13 21:29:52,557 [INFO]: isatab.py(validate:4376) >> Checking generic fields...\n",
      "2021-07-13 21:29:52,591 [INFO]: isatab.py(validate:4387) >> Checking unit fields...\n",
      "2021-07-13 21:29:52,592 [INFO]: isatab.py(validate:4397) >> Checking protocol fields...\n",
      "2021-07-13 21:29:52,592 [WARNING]: isatab.py(check_protocol_fields:4030) >> (W) Protocol(s) of type ['extraction'] defined in the ISA-configuration expected as a between 'Sample Name' and 'Extract Name' but has not been found, in the file 'a_proteome.txt'\n",
      "2021-07-13 21:29:52,593 [WARNING]: isatab.py(check_protocol_fields:4030) >> (W) Protocol(s) of type ['mass spectrometry'] defined in the ISA-configuration expected as a between 'Labeled Extract Name' and 'MS Assay Name' but has not been found, in the file 'a_proteome.txt'\n",
      "2021-07-13 21:29:52,594 [WARNING]: isatab.py(check_protocol_fields:4030) >> (W) Protocol(s) of type ['data transformation'] defined in the ISA-configuration expected as a between 'Raw Spectral Data File' and 'Normalization Name' but has not been found, in the file 'a_proteome.txt'\n",
      "2021-07-13 21:29:52,595 [WARNING]: isatab.py(validate:4408) >> (W) There are some protocol inconsistencies in a_proteome.txt against ('protein expression profiling', 'mass spectrometry') configuration\n",
      "2021-07-13 21:29:52,595 [INFO]: isatab.py(validate:4409) >> Checking ontology fields...\n",
      "2021-07-13 21:29:52,601 [INFO]: isatab.py(validate:4422) >> Checking study group size...\n",
      "2021-07-13 21:29:52,604 [INFO]: isatab.py(validate:4428) >> Finished validation on a_proteome.txt\n",
      "2021-07-13 21:29:52,604 [INFO]: isatab.py(validate:4433) >> Checking consistencies between study sample table and assay tables...\n",
      "2021-07-13 21:29:52,605 [INFO]: isatab.py(validate:4438) >> Finished checking study sample table against assay tables...\n"
     ]
    },
    {
     "name": "stderr",
     "output_type": "stream",
     "text": [
      "2021-07-13 21:29:52,606 [INFO]: isatab.py(validate:4356) >> Loading... a_metabolome.txt\n",
      "2021-07-13 21:29:52,613 [INFO]: isatab.py(validate:4368) >> Validating a_metabolome.txt against assay table configuration (metabolite profiling, mass spectrometry)...\n",
      "2021-07-13 21:29:52,614 [INFO]: isatab.py(validate:4370) >> Checking Factor Value presence...\n",
      "2021-07-13 21:29:52,620 [INFO]: isatab.py(validate:4373) >> Checking required fields...\n",
      "2021-07-13 21:29:52,621 [INFO]: isatab.py(validate:4376) >> Checking generic fields...\n",
      "2021-07-13 21:29:52,705 [INFO]: isatab.py(validate:4387) >> Checking unit fields...\n",
      "2021-07-13 21:29:52,705 [INFO]: isatab.py(validate:4397) >> Checking protocol fields...\n",
      "2021-07-13 21:29:52,707 [WARNING]: isatab.py(check_protocol_fields:4030) >> (W) Protocol(s) of type ['labeling', 'mass spectrometry'] defined in the ISA-configuration expected as a between 'Extract Name' and 'MS Assay Name' but has not been found, in the file 'a_metabolome.txt'\n",
      "2021-07-13 21:29:52,708 [WARNING]: isatab.py(validate:4408) >> (W) There are some protocol inconsistencies in a_metabolome.txt against ('metabolite profiling', 'mass spectrometry') configuration\n",
      "2021-07-13 21:29:52,708 [INFO]: isatab.py(validate:4409) >> Checking ontology fields...\n",
      "2021-07-13 21:29:52,709 [INFO]: isatab.py(validate:4422) >> Checking study group size...\n",
      "2021-07-13 21:29:52,712 [INFO]: isatab.py(validate:4428) >> Finished validation on a_metabolome.txt\n",
      "2021-07-13 21:29:52,713 [INFO]: isatab.py(validate:4433) >> Checking consistencies between study sample table and assay tables...\n",
      "2021-07-13 21:29:52,713 [INFO]: isatab.py(validate:4438) >> Finished checking study sample table against assay tables...\n",
      "2021-07-13 21:29:52,714 [INFO]: isatab.py(validate:4356) >> Loading... a_transcriptome.txt\n",
      "2021-07-13 21:29:52,723 [INFO]: isatab.py(validate:4368) >> Validating a_transcriptome.txt against assay table configuration (transcription profiling, DNA microarray)...\n",
      "2021-07-13 21:29:52,725 [INFO]: isatab.py(validate:4370) >> Checking Factor Value presence...\n",
      "2021-07-13 21:29:52,732 [INFO]: isatab.py(validate:4373) >> Checking required fields...\n",
      "2021-07-13 21:29:52,733 [INFO]: isatab.py(validate:4376) >> Checking generic fields...\n",
      "2021-07-13 21:29:52,827 [INFO]: isatab.py(validate:4387) >> Checking unit fields...\n",
      "2021-07-13 21:29:52,827 [INFO]: isatab.py(validate:4397) >> Checking protocol fields...\n",
      "2021-07-13 21:29:52,828 [WARNING]: isatab.py(check_protocol_fields:4030) >> (W) Protocol(s) of type ['RNA extraction'] defined in the ISA-configuration expected as a between 'Sample Name' and 'Extract Name' but has not been found, in the file 'a_transcriptome.txt'\n",
      "2021-07-13 21:29:52,829 [WARNING]: isatab.py(check_protocol_fields:4030) >> (W) Protocol(s) of type ['nucleic acid hybridization'] defined in the ISA-configuration expected as a between 'Labeled Extract Name' and 'Hybridization Assay Name' but has not been found, in the file 'a_transcriptome.txt'\n",
      "2021-07-13 21:29:52,830 [WARNING]: isatab.py(check_protocol_fields:4030) >> (W) Protocol(s) of type ['data collection'] defined in the ISA-configuration expected as a between 'Hybridization Assay Name' and 'Scan Name' but has not been found, in the file 'a_transcriptome.txt'\n",
      "2021-07-13 21:29:52,831 [WARNING]: isatab.py(check_protocol_fields:4030) >> (W) Protocol(s) of type ['normalization data transformation'] defined in the ISA-configuration expected as a between 'Array Data File' and 'Normalization Name' but has not been found, in the file 'a_transcriptome.txt'\n",
      "2021-07-13 21:29:52,832 [WARNING]: isatab.py(validate:4408) >> (W) There are some protocol inconsistencies in a_transcriptome.txt against ('transcription profiling', 'DNA microarray') configuration\n",
      "2021-07-13 21:29:52,832 [INFO]: isatab.py(validate:4409) >> Checking ontology fields...\n",
      "2021-07-13 21:29:52,850 [INFO]: isatab.py(validate:4422) >> Checking study group size...\n",
      "2021-07-13 21:29:52,853 [INFO]: isatab.py(validate:4428) >> Finished validation on a_transcriptome.txt\n",
      "2021-07-13 21:29:52,854 [INFO]: isatab.py(validate:4433) >> Checking consistencies between study sample table and assay tables...\n",
      "2021-07-13 21:29:52,855 [INFO]: isatab.py(validate:4438) >> Finished checking study sample table against assay tables...\n",
      "2021-07-13 21:29:54,329 [INFO]: isatab.py(preprocess:5294) >> warning: Protocol REF missing between 'Labeled Extract Name' and 'MS Assay Name'\n",
      "2021-07-13 21:29:54,330 [INFO]: isatab.py(preprocess:5294) >> warning: Protocol REF missing between 'Raw Spectral Data File' and 'Normalization Name'\n",
      "2021-07-13 21:29:54,330 [INFO]: isatab.py(preprocess:5294) >> warning: Protocol REF missing between 'Post Translational Modification Assignment File' and 'Data Transformation Name'\n",
      "2021-07-13 21:29:54,330 [INFO]: isatab.py(preprocess:5339) >> Inserting protocol unknown in between Post Translational Modification Assignment File and Data Transformation Name\n",
      "2021-07-13 21:29:54,333 [INFO]: isatab.py(preprocess:5339) >> Inserting protocol unknown in between Raw Spectral Data File and Normalization Name\n",
      "2021-07-13 21:29:54,335 [INFO]: isatab.py(preprocess:5339) >> Inserting protocol unknown in between Labeled Extract Name and MS Assay Name\n",
      "2021-07-13 21:29:54,647 [INFO]: isatab.py(preprocess:5294) >> warning: Protocol REF missing between 'Extract Name' and 'MS Assay Name'\n",
      "2021-07-13 21:29:54,648 [INFO]: isatab.py(preprocess:5339) >> Inserting protocol unknown in between Extract Name and MS Assay Name\n",
      "2021-07-13 21:29:55,542 [INFO]: isatab.py(preprocess:5294) >> warning: Protocol REF missing between 'Hybridization Assay Name' and 'Scan Name'\n",
      "2021-07-13 21:29:55,543 [INFO]: isatab.py(preprocess:5294) >> warning: Protocol REF missing between 'Array Data File' and 'Normalization Name'\n",
      "2021-07-13 21:29:55,543 [INFO]: isatab.py(preprocess:5339) >> Inserting protocol unknown in between Array Data File and Normalization Name\n",
      "2021-07-13 21:29:55,545 [INFO]: isatab.py(preprocess:5339) >> Inserting protocol unknown in between Hybridization Assay Name and Scan Name\n",
      "2021-07-13 21:29:56,410 [INFO]: isatab.py(preprocess:5294) >> warning: Protocol REF missing between 'Hybridization Assay Name' and 'Scan Name'\n",
      "2021-07-13 21:29:56,410 [INFO]: isatab.py(preprocess:5294) >> warning: Protocol REF missing between 'Array Data File' and 'Data Transformation Name'\n",
      "2021-07-13 21:29:56,411 [INFO]: isatab.py(preprocess:5339) >> Inserting protocol unknown in between Array Data File and Data Transformation Name\n",
      "2021-07-13 21:29:56,413 [INFO]: isatab.py(preprocess:5339) >> Inserting protocol unknown in between Hybridization Assay Name and Scan Name\n",
      "2021-07-13 21:29:56,681 [INFO]: utils.py(detect_isatab_process_pooling:88) >> Checking s_BII-S-1.txt\n",
      "2021-07-13 21:29:57,349 [INFO]: utils.py(detect_isatab_process_pooling:97) >> Checking a_proteome.txt\n",
      "2021-07-13 21:29:57,465 [INFO]: utils.py(detect_graph_process_pooling:70) >> Possible process pooling detected on:  ITRAQ labeling\n",
      "2021-07-13 21:29:57,466 [INFO]: utils.py(detect_graph_process_pooling:70) >> Possible process pooling detected on:  ITRAQ labeling\n",
      "2021-07-13 21:29:57,466 [INFO]: utils.py(detect_graph_process_pooling:70) >> Possible process pooling detected on:  ITRAQ labeling\n",
      "2021-07-13 21:29:57,467 [INFO]: utils.py(detect_graph_process_pooling:70) >> Possible process pooling detected on:  ITRAQ labeling\n",
      "2021-07-13 21:29:57,468 [INFO]: utils.py(detect_graph_process_pooling:70) >> Possible process pooling detected on:  ITRAQ labeling\n",
      "2021-07-13 21:29:57,469 [INFO]: utils.py(detect_graph_process_pooling:70) >> Possible process pooling detected on:  ITRAQ labeling\n",
      "2021-07-13 21:29:57,470 [INFO]: utils.py(detect_graph_process_pooling:70) >> Possible process pooling detected on:  ITRAQ labeling\n",
      "2021-07-13 21:29:57,471 [INFO]: utils.py(detect_graph_process_pooling:70) >> Possible process pooling detected on:  ITRAQ labeling\n",
      "2021-07-13 21:29:57,471 [INFO]: utils.py(detect_graph_process_pooling:70) >> Possible process pooling detected on:  unknown protocol\n",
      "2021-07-13 21:29:57,472 [INFO]: utils.py(detect_graph_process_pooling:70) >> Possible process pooling detected on:  unknown protocol\n",
      "2021-07-13 21:29:57,472 [INFO]: utils.py(detect_graph_process_pooling:70) >> Possible process pooling detected on:  unknown protocol\n"
     ]
    },
    {
     "name": "stderr",
     "output_type": "stream",
     "text": [
      "2021-07-13 21:29:57,474 [INFO]: utils.py(detect_graph_process_pooling:70) >> Possible process pooling detected on:  unknown protocol\n",
      "2021-07-13 21:29:57,477 [INFO]: utils.py(detect_graph_process_pooling:70) >> Possible process pooling detected on:  unknown protocol\n",
      "2021-07-13 21:29:57,480 [INFO]: utils.py(detect_graph_process_pooling:70) >> Possible process pooling detected on:  unknown protocol\n",
      "2021-07-13 21:29:57,482 [INFO]: utils.py(detect_graph_process_pooling:70) >> Possible process pooling detected on:  unknown protocol\n",
      "2021-07-13 21:29:57,485 [INFO]: utils.py(detect_graph_process_pooling:70) >> Possible process pooling detected on:  unknown protocol\n",
      "2021-07-13 21:29:57,488 [INFO]: utils.py(detect_graph_process_pooling:70) >> Possible process pooling detected on:  unknown protocol\n",
      "2021-07-13 21:29:57,488 [INFO]: utils.py(detect_isatab_process_pooling:97) >> Checking a_metabolome.txt\n",
      "2021-07-13 21:29:57,767 [INFO]: utils.py(detect_graph_process_pooling:70) >> Possible process pooling detected on:  unknown protocol\n",
      "2021-07-13 21:29:57,768 [INFO]: utils.py(detect_graph_process_pooling:70) >> Possible process pooling detected on:  unknown protocol\n",
      "2021-07-13 21:29:57,769 [INFO]: utils.py(detect_graph_process_pooling:70) >> Possible process pooling detected on:  unknown protocol\n",
      "2021-07-13 21:29:57,770 [INFO]: utils.py(detect_graph_process_pooling:70) >> Possible process pooling detected on:  unknown protocol\n",
      "2021-07-13 21:29:57,771 [INFO]: utils.py(detect_graph_process_pooling:70) >> Possible process pooling detected on:  unknown protocol\n",
      "2021-07-13 21:29:57,772 [INFO]: utils.py(detect_graph_process_pooling:70) >> Possible process pooling detected on:  unknown protocol\n",
      "2021-07-13 21:29:57,774 [INFO]: utils.py(detect_graph_process_pooling:70) >> Possible process pooling detected on:  unknown protocol\n",
      "2021-07-13 21:29:57,775 [INFO]: utils.py(detect_graph_process_pooling:70) >> Possible process pooling detected on:  unknown protocol\n",
      "2021-07-13 21:29:57,776 [INFO]: utils.py(detect_graph_process_pooling:70) >> Possible process pooling detected on:  unknown protocol\n",
      "2021-07-13 21:29:57,777 [INFO]: utils.py(detect_graph_process_pooling:70) >> Possible process pooling detected on:  unknown protocol\n",
      "2021-07-13 21:29:57,778 [INFO]: utils.py(detect_graph_process_pooling:70) >> Possible process pooling detected on:  unknown protocol\n",
      "2021-07-13 21:29:57,779 [INFO]: utils.py(detect_graph_process_pooling:70) >> Possible process pooling detected on:  unknown protocol\n",
      "2021-07-13 21:29:57,780 [INFO]: utils.py(detect_graph_process_pooling:70) >> Possible process pooling detected on:  unknown protocol\n",
      "2021-07-13 21:29:57,781 [INFO]: utils.py(detect_graph_process_pooling:70) >> Possible process pooling detected on:  unknown protocol\n",
      "2021-07-13 21:29:57,782 [INFO]: utils.py(detect_graph_process_pooling:70) >> Possible process pooling detected on:  unknown protocol\n",
      "2021-07-13 21:29:57,783 [INFO]: utils.py(detect_graph_process_pooling:70) >> Possible process pooling detected on:  unknown protocol\n",
      "2021-07-13 21:29:57,784 [INFO]: utils.py(detect_graph_process_pooling:70) >> Possible process pooling detected on:  unknown protocol\n",
      "2021-07-13 21:29:57,785 [INFO]: utils.py(detect_graph_process_pooling:70) >> Possible process pooling detected on:  unknown protocol\n",
      "2021-07-13 21:29:57,786 [INFO]: utils.py(detect_graph_process_pooling:70) >> Possible process pooling detected on:  unknown protocol\n",
      "2021-07-13 21:29:57,787 [INFO]: utils.py(detect_graph_process_pooling:70) >> Possible process pooling detected on:  unknown protocol\n",
      "2021-07-13 21:29:57,788 [INFO]: utils.py(detect_graph_process_pooling:70) >> Possible process pooling detected on:  unknown protocol\n",
      "2021-07-13 21:29:57,789 [INFO]: utils.py(detect_graph_process_pooling:70) >> Possible process pooling detected on:  unknown protocol\n",
      "2021-07-13 21:29:57,790 [INFO]: utils.py(detect_graph_process_pooling:70) >> Possible process pooling detected on:  unknown protocol\n",
      "2021-07-13 21:29:57,791 [INFO]: utils.py(detect_graph_process_pooling:70) >> Possible process pooling detected on:  unknown protocol\n",
      "2021-07-13 21:29:57,792 [INFO]: utils.py(detect_graph_process_pooling:70) >> Possible process pooling detected on:  unknown protocol\n",
      "2021-07-13 21:29:57,793 [INFO]: utils.py(detect_graph_process_pooling:70) >> Possible process pooling detected on:  unknown protocol\n",
      "2021-07-13 21:29:57,795 [INFO]: utils.py(detect_graph_process_pooling:70) >> Possible process pooling detected on:  unknown protocol\n",
      "2021-07-13 21:29:57,796 [INFO]: utils.py(detect_graph_process_pooling:70) >> Possible process pooling detected on:  unknown protocol\n",
      "2021-07-13 21:29:57,797 [INFO]: utils.py(detect_graph_process_pooling:70) >> Possible process pooling detected on:  unknown protocol\n",
      "2021-07-13 21:29:57,798 [INFO]: utils.py(detect_graph_process_pooling:70) >> Possible process pooling detected on:  unknown protocol\n",
      "2021-07-13 21:29:57,799 [INFO]: utils.py(detect_graph_process_pooling:70) >> Possible process pooling detected on:  unknown protocol\n",
      "2021-07-13 21:29:57,800 [INFO]: utils.py(detect_graph_process_pooling:70) >> Possible process pooling detected on:  unknown protocol\n",
      "2021-07-13 21:29:57,800 [INFO]: utils.py(detect_graph_process_pooling:70) >> Possible process pooling detected on:  unknown protocol\n",
      "2021-07-13 21:29:57,801 [INFO]: utils.py(detect_graph_process_pooling:70) >> Possible process pooling detected on:  unknown protocol\n",
      "2021-07-13 21:29:57,802 [INFO]: utils.py(detect_graph_process_pooling:70) >> Possible process pooling detected on:  unknown protocol\n",
      "2021-07-13 21:29:57,803 [INFO]: utils.py(detect_graph_process_pooling:70) >> Possible process pooling detected on:  unknown protocol\n",
      "2021-07-13 21:29:57,804 [INFO]: utils.py(detect_graph_process_pooling:70) >> Possible process pooling detected on:  unknown protocol\n",
      "2021-07-13 21:29:57,805 [INFO]: utils.py(detect_graph_process_pooling:70) >> Possible process pooling detected on:  unknown protocol\n",
      "2021-07-13 21:29:57,806 [INFO]: utils.py(detect_graph_process_pooling:70) >> Possible process pooling detected on:  unknown protocol\n",
      "2021-07-13 21:29:57,807 [INFO]: utils.py(detect_graph_process_pooling:70) >> Possible process pooling detected on:  unknown protocol\n",
      "2021-07-13 21:29:57,808 [INFO]: utils.py(detect_graph_process_pooling:70) >> Possible process pooling detected on:  unknown protocol\n",
      "2021-07-13 21:29:57,809 [INFO]: utils.py(detect_graph_process_pooling:70) >> Possible process pooling detected on:  unknown protocol\n",
      "2021-07-13 21:29:57,810 [INFO]: utils.py(detect_graph_process_pooling:70) >> Possible process pooling detected on:  unknown protocol\n",
      "2021-07-13 21:29:57,811 [INFO]: utils.py(detect_graph_process_pooling:70) >> Possible process pooling detected on:  unknown protocol\n",
      "2021-07-13 21:29:57,812 [INFO]: utils.py(detect_graph_process_pooling:70) >> Possible process pooling detected on:  unknown protocol\n",
      "2021-07-13 21:29:57,813 [INFO]: utils.py(detect_graph_process_pooling:70) >> Possible process pooling detected on:  unknown protocol\n",
      "2021-07-13 21:29:57,814 [INFO]: utils.py(detect_graph_process_pooling:70) >> Possible process pooling detected on:  unknown protocol\n",
      "2021-07-13 21:29:57,815 [INFO]: utils.py(detect_graph_process_pooling:70) >> Possible process pooling detected on:  unknown protocol\n",
      "2021-07-13 21:29:57,816 [INFO]: utils.py(detect_graph_process_pooling:70) >> Possible process pooling detected on:  unknown protocol\n",
      "2021-07-13 21:29:57,817 [INFO]: utils.py(detect_graph_process_pooling:70) >> Possible process pooling detected on:  unknown protocol\n",
      "2021-07-13 21:29:57,818 [INFO]: utils.py(detect_graph_process_pooling:70) >> Possible process pooling detected on:  unknown protocol\n",
      "2021-07-13 21:29:57,819 [INFO]: utils.py(detect_graph_process_pooling:70) >> Possible process pooling detected on:  unknown protocol\n",
      "2021-07-13 21:29:57,820 [INFO]: utils.py(detect_graph_process_pooling:70) >> Possible process pooling detected on:  unknown protocol\n",
      "2021-07-13 21:29:57,821 [INFO]: utils.py(detect_graph_process_pooling:70) >> Possible process pooling detected on:  unknown protocol\n",
      "2021-07-13 21:29:57,821 [INFO]: utils.py(detect_graph_process_pooling:70) >> Possible process pooling detected on:  unknown protocol\n"
     ]
    },
    {
     "name": "stderr",
     "output_type": "stream",
     "text": [
      "2021-07-13 21:29:57,822 [INFO]: utils.py(detect_graph_process_pooling:70) >> Possible process pooling detected on:  unknown protocol\n",
      "2021-07-13 21:29:57,823 [INFO]: utils.py(detect_graph_process_pooling:70) >> Possible process pooling detected on:  unknown protocol\n",
      "2021-07-13 21:29:57,824 [INFO]: utils.py(detect_graph_process_pooling:70) >> Possible process pooling detected on:  unknown protocol\n",
      "2021-07-13 21:29:57,825 [INFO]: utils.py(detect_graph_process_pooling:70) >> Possible process pooling detected on:  unknown protocol\n",
      "2021-07-13 21:29:57,827 [INFO]: utils.py(detect_graph_process_pooling:70) >> Possible process pooling detected on:  unknown protocol\n",
      "2021-07-13 21:29:57,828 [INFO]: utils.py(detect_graph_process_pooling:70) >> Possible process pooling detected on:  unknown protocol\n",
      "2021-07-13 21:29:57,829 [INFO]: utils.py(detect_graph_process_pooling:70) >> Possible process pooling detected on:  unknown protocol\n",
      "2021-07-13 21:29:57,831 [INFO]: utils.py(detect_graph_process_pooling:70) >> Possible process pooling detected on:  unknown protocol\n",
      "2021-07-13 21:29:57,832 [INFO]: utils.py(detect_graph_process_pooling:70) >> Possible process pooling detected on:  unknown protocol\n",
      "2021-07-13 21:29:57,832 [INFO]: utils.py(detect_graph_process_pooling:70) >> Possible process pooling detected on:  unknown protocol\n",
      "2021-07-13 21:29:57,834 [INFO]: utils.py(detect_graph_process_pooling:70) >> Possible process pooling detected on:  unknown protocol\n",
      "2021-07-13 21:29:57,835 [INFO]: utils.py(detect_graph_process_pooling:70) >> Possible process pooling detected on:  unknown protocol\n",
      "2021-07-13 21:29:57,836 [INFO]: utils.py(detect_graph_process_pooling:70) >> Possible process pooling detected on:  unknown protocol\n",
      "2021-07-13 21:29:57,837 [INFO]: utils.py(detect_graph_process_pooling:70) >> Possible process pooling detected on:  unknown protocol\n",
      "2021-07-13 21:29:57,838 [INFO]: utils.py(detect_graph_process_pooling:70) >> Possible process pooling detected on:  unknown protocol\n",
      "2021-07-13 21:29:57,839 [INFO]: utils.py(detect_graph_process_pooling:70) >> Possible process pooling detected on:  unknown protocol\n",
      "2021-07-13 21:29:57,839 [INFO]: utils.py(detect_graph_process_pooling:70) >> Possible process pooling detected on:  unknown protocol\n",
      "2021-07-13 21:29:57,841 [INFO]: utils.py(detect_graph_process_pooling:70) >> Possible process pooling detected on:  unknown protocol\n",
      "2021-07-13 21:29:57,842 [INFO]: utils.py(detect_graph_process_pooling:70) >> Possible process pooling detected on:  unknown protocol\n",
      "2021-07-13 21:29:57,844 [INFO]: utils.py(detect_graph_process_pooling:70) >> Possible process pooling detected on:  unknown protocol\n",
      "2021-07-13 21:29:57,845 [INFO]: utils.py(detect_graph_process_pooling:70) >> Possible process pooling detected on:  unknown protocol\n",
      "2021-07-13 21:29:57,846 [INFO]: utils.py(detect_graph_process_pooling:70) >> Possible process pooling detected on:  unknown protocol\n",
      "2021-07-13 21:29:57,847 [INFO]: utils.py(detect_graph_process_pooling:70) >> Possible process pooling detected on:  unknown protocol\n",
      "2021-07-13 21:29:57,848 [INFO]: utils.py(detect_graph_process_pooling:70) >> Possible process pooling detected on:  unknown protocol\n",
      "2021-07-13 21:29:57,848 [INFO]: utils.py(detect_graph_process_pooling:70) >> Possible process pooling detected on:  unknown protocol\n",
      "2021-07-13 21:29:57,849 [INFO]: utils.py(detect_graph_process_pooling:70) >> Possible process pooling detected on:  unknown protocol\n",
      "2021-07-13 21:29:57,851 [INFO]: utils.py(detect_graph_process_pooling:70) >> Possible process pooling detected on:  unknown protocol\n",
      "2021-07-13 21:29:57,852 [INFO]: utils.py(detect_graph_process_pooling:70) >> Possible process pooling detected on:  unknown protocol\n",
      "2021-07-13 21:29:57,853 [INFO]: utils.py(detect_graph_process_pooling:70) >> Possible process pooling detected on:  unknown protocol\n",
      "2021-07-13 21:29:57,854 [INFO]: utils.py(detect_graph_process_pooling:70) >> Possible process pooling detected on:  unknown protocol\n",
      "2021-07-13 21:29:57,855 [INFO]: utils.py(detect_graph_process_pooling:70) >> Possible process pooling detected on:  unknown protocol\n",
      "2021-07-13 21:29:57,856 [INFO]: utils.py(detect_graph_process_pooling:70) >> Possible process pooling detected on:  unknown protocol\n",
      "2021-07-13 21:29:57,857 [INFO]: utils.py(detect_graph_process_pooling:70) >> Possible process pooling detected on:  unknown protocol\n",
      "2021-07-13 21:29:57,858 [INFO]: utils.py(detect_graph_process_pooling:70) >> Possible process pooling detected on:  unknown protocol\n",
      "2021-07-13 21:29:57,860 [INFO]: utils.py(detect_graph_process_pooling:70) >> Possible process pooling detected on:  unknown protocol\n",
      "2021-07-13 21:29:57,861 [INFO]: utils.py(detect_graph_process_pooling:70) >> Possible process pooling detected on:  unknown protocol\n",
      "2021-07-13 21:29:57,862 [INFO]: utils.py(detect_graph_process_pooling:70) >> Possible process pooling detected on:  unknown protocol\n",
      "2021-07-13 21:29:57,867 [INFO]: utils.py(detect_isatab_process_pooling:97) >> Checking a_transcriptome.txt\n",
      "2021-07-13 21:30:00,924 [INFO]: utils.py(detect_graph_process_pooling:70) >> Possible process pooling detected on:  biotin labeling\n",
      "2021-07-13 21:30:00,924 [INFO]: utils.py(detect_graph_process_pooling:70) >> Possible process pooling detected on:  biotin labeling\n",
      "2021-07-13 21:30:00,925 [INFO]: utils.py(detect_graph_process_pooling:70) >> Possible process pooling detected on:  biotin labeling\n",
      "2021-07-13 21:30:00,926 [INFO]: utils.py(detect_graph_process_pooling:70) >> Possible process pooling detected on:  biotin labeling\n",
      "2021-07-13 21:30:00,927 [INFO]: utils.py(detect_graph_process_pooling:70) >> Possible process pooling detected on:  biotin labeling\n",
      "2021-07-13 21:30:00,928 [INFO]: utils.py(detect_graph_process_pooling:70) >> Possible process pooling detected on:  biotin labeling\n",
      "2021-07-13 21:30:00,929 [INFO]: utils.py(detect_graph_process_pooling:70) >> Possible process pooling detected on:  biotin labeling\n",
      "2021-07-13 21:30:00,929 [INFO]: utils.py(detect_graph_process_pooling:70) >> Possible process pooling detected on:  biotin labeling\n",
      "2021-07-13 21:30:00,930 [INFO]: utils.py(detect_graph_process_pooling:70) >> Possible process pooling detected on:  biotin labeling\n",
      "2021-07-13 21:30:00,931 [INFO]: utils.py(detect_graph_process_pooling:70) >> Possible process pooling detected on:  biotin labeling\n",
      "2021-07-13 21:30:00,932 [INFO]: utils.py(detect_graph_process_pooling:70) >> Possible process pooling detected on:  biotin labeling\n",
      "2021-07-13 21:30:00,933 [INFO]: utils.py(detect_graph_process_pooling:70) >> Possible process pooling detected on:  biotin labeling\n",
      "2021-07-13 21:30:00,933 [INFO]: utils.py(detect_graph_process_pooling:70) >> Possible process pooling detected on:  biotin labeling\n",
      "2021-07-13 21:30:00,934 [INFO]: utils.py(detect_graph_process_pooling:70) >> Possible process pooling detected on:  biotin labeling\n",
      "2021-07-13 21:30:00,935 [INFO]: utils.py(detect_graph_process_pooling:70) >> Possible process pooling detected on:  biotin labeling\n",
      "2021-07-13 21:30:00,936 [INFO]: utils.py(detect_graph_process_pooling:70) >> Possible process pooling detected on:  biotin labeling\n",
      "2021-07-13 21:30:00,937 [INFO]: utils.py(detect_graph_process_pooling:70) >> Possible process pooling detected on:  biotin labeling\n",
      "2021-07-13 21:30:00,937 [INFO]: utils.py(detect_graph_process_pooling:70) >> Possible process pooling detected on:  biotin labeling\n",
      "2021-07-13 21:30:00,938 [INFO]: utils.py(detect_graph_process_pooling:70) >> Possible process pooling detected on:  biotin labeling\n",
      "2021-07-13 21:30:00,939 [INFO]: utils.py(detect_graph_process_pooling:70) >> Possible process pooling detected on:  biotin labeling\n",
      "2021-07-13 21:30:00,940 [INFO]: utils.py(detect_graph_process_pooling:70) >> Possible process pooling detected on:  biotin labeling\n",
      "2021-07-13 21:30:00,941 [INFO]: utils.py(detect_graph_process_pooling:70) >> Possible process pooling detected on:  biotin labeling\n",
      "2021-07-13 21:30:00,942 [INFO]: utils.py(detect_graph_process_pooling:70) >> Possible process pooling detected on:  biotin labeling\n",
      "2021-07-13 21:30:00,942 [INFO]: utils.py(detect_graph_process_pooling:70) >> Possible process pooling detected on:  biotin labeling\n"
     ]
    },
    {
     "name": "stderr",
     "output_type": "stream",
     "text": [
      "2021-07-13 21:30:00,943 [INFO]: utils.py(detect_graph_process_pooling:70) >> Possible process pooling detected on:  biotin labeling\n",
      "2021-07-13 21:30:00,944 [INFO]: utils.py(detect_graph_process_pooling:70) >> Possible process pooling detected on:  biotin labeling\n",
      "2021-07-13 21:30:00,945 [INFO]: utils.py(detect_graph_process_pooling:70) >> Possible process pooling detected on:  biotin labeling\n",
      "2021-07-13 21:30:00,946 [INFO]: utils.py(detect_graph_process_pooling:70) >> Possible process pooling detected on:  biotin labeling\n",
      "2021-07-13 21:30:00,947 [INFO]: utils.py(detect_graph_process_pooling:70) >> Possible process pooling detected on:  biotin labeling\n",
      "2021-07-13 21:30:00,948 [INFO]: utils.py(detect_graph_process_pooling:70) >> Possible process pooling detected on:  biotin labeling\n",
      "2021-07-13 21:30:00,949 [INFO]: utils.py(detect_graph_process_pooling:70) >> Possible process pooling detected on:  biotin labeling\n",
      "2021-07-13 21:30:00,950 [INFO]: utils.py(detect_graph_process_pooling:70) >> Possible process pooling detected on:  biotin labeling\n",
      "2021-07-13 21:30:00,951 [INFO]: utils.py(detect_graph_process_pooling:70) >> Possible process pooling detected on:  biotin labeling\n",
      "2021-07-13 21:30:00,951 [INFO]: utils.py(detect_graph_process_pooling:70) >> Possible process pooling detected on:  biotin labeling\n",
      "2021-07-13 21:30:00,952 [INFO]: utils.py(detect_graph_process_pooling:70) >> Possible process pooling detected on:  biotin labeling\n",
      "2021-07-13 21:30:00,953 [INFO]: utils.py(detect_graph_process_pooling:70) >> Possible process pooling detected on:  biotin labeling\n",
      "2021-07-13 21:30:00,954 [INFO]: utils.py(detect_graph_process_pooling:70) >> Possible process pooling detected on:  biotin labeling\n",
      "2021-07-13 21:30:00,955 [INFO]: utils.py(detect_graph_process_pooling:70) >> Possible process pooling detected on:  biotin labeling\n",
      "2021-07-13 21:30:00,956 [INFO]: utils.py(detect_graph_process_pooling:70) >> Possible process pooling detected on:  biotin labeling\n",
      "2021-07-13 21:30:00,957 [INFO]: utils.py(detect_graph_process_pooling:70) >> Possible process pooling detected on:  biotin labeling\n",
      "2021-07-13 21:30:00,958 [INFO]: utils.py(detect_graph_process_pooling:70) >> Possible process pooling detected on:  biotin labeling\n",
      "2021-07-13 21:30:00,959 [INFO]: utils.py(detect_graph_process_pooling:70) >> Possible process pooling detected on:  biotin labeling\n",
      "2021-07-13 21:30:00,959 [INFO]: utils.py(detect_graph_process_pooling:70) >> Possible process pooling detected on:  biotin labeling\n",
      "2021-07-13 21:30:00,960 [INFO]: utils.py(detect_graph_process_pooling:70) >> Possible process pooling detected on:  biotin labeling\n",
      "2021-07-13 21:30:00,961 [INFO]: utils.py(detect_graph_process_pooling:70) >> Possible process pooling detected on:  biotin labeling\n",
      "2021-07-13 21:30:00,963 [INFO]: utils.py(detect_graph_process_pooling:70) >> Possible process pooling detected on:  biotin labeling\n",
      "2021-07-13 21:30:00,963 [INFO]: utils.py(detect_graph_process_pooling:70) >> Possible process pooling detected on:  biotin labeling\n",
      "2021-07-13 21:30:00,964 [INFO]: utils.py(detect_graph_process_pooling:70) >> Possible process pooling detected on:  biotin labeling\n",
      "2021-07-13 21:30:00,965 [INFO]: utils.py(detect_graph_process_pooling:70) >> Possible process pooling detected on:  EukGE-WS4\n",
      "2021-07-13 21:30:00,966 [INFO]: utils.py(detect_graph_process_pooling:70) >> Possible process pooling detected on:  EukGE-WS4\n",
      "2021-07-13 21:30:00,966 [INFO]: utils.py(detect_graph_process_pooling:70) >> Possible process pooling detected on:  EukGE-WS4\n",
      "2021-07-13 21:30:00,967 [INFO]: utils.py(detect_graph_process_pooling:70) >> Possible process pooling detected on:  EukGE-WS4\n",
      "2021-07-13 21:30:00,968 [INFO]: utils.py(detect_graph_process_pooling:70) >> Possible process pooling detected on:  EukGE-WS4\n",
      "2021-07-13 21:30:00,969 [INFO]: utils.py(detect_graph_process_pooling:70) >> Possible process pooling detected on:  EukGE-WS4\n",
      "2021-07-13 21:30:00,969 [INFO]: utils.py(detect_graph_process_pooling:70) >> Possible process pooling detected on:  EukGE-WS4\n",
      "2021-07-13 21:30:00,970 [INFO]: utils.py(detect_graph_process_pooling:70) >> Possible process pooling detected on:  EukGE-WS4\n",
      "2021-07-13 21:30:00,971 [INFO]: utils.py(detect_graph_process_pooling:70) >> Possible process pooling detected on:  EukGE-WS4\n",
      "2021-07-13 21:30:00,972 [INFO]: utils.py(detect_graph_process_pooling:70) >> Possible process pooling detected on:  EukGE-WS4\n",
      "2021-07-13 21:30:00,973 [INFO]: utils.py(detect_graph_process_pooling:70) >> Possible process pooling detected on:  EukGE-WS4\n",
      "2021-07-13 21:30:00,974 [INFO]: utils.py(detect_graph_process_pooling:70) >> Possible process pooling detected on:  EukGE-WS4\n",
      "2021-07-13 21:30:00,975 [INFO]: utils.py(detect_graph_process_pooling:70) >> Possible process pooling detected on:  EukGE-WS4\n",
      "2021-07-13 21:30:00,976 [INFO]: utils.py(detect_graph_process_pooling:70) >> Possible process pooling detected on:  EukGE-WS4\n",
      "2021-07-13 21:30:00,976 [INFO]: utils.py(detect_graph_process_pooling:70) >> Possible process pooling detected on:  EukGE-WS4\n",
      "2021-07-13 21:30:00,977 [INFO]: utils.py(detect_graph_process_pooling:70) >> Possible process pooling detected on:  EukGE-WS4\n",
      "2021-07-13 21:30:00,978 [INFO]: utils.py(detect_graph_process_pooling:70) >> Possible process pooling detected on:  EukGE-WS4\n",
      "2021-07-13 21:30:00,980 [INFO]: utils.py(detect_graph_process_pooling:70) >> Possible process pooling detected on:  EukGE-WS4\n",
      "2021-07-13 21:30:00,981 [INFO]: utils.py(detect_graph_process_pooling:70) >> Possible process pooling detected on:  EukGE-WS4\n",
      "2021-07-13 21:30:00,982 [INFO]: utils.py(detect_graph_process_pooling:70) >> Possible process pooling detected on:  EukGE-WS4\n",
      "2021-07-13 21:30:00,982 [INFO]: utils.py(detect_graph_process_pooling:70) >> Possible process pooling detected on:  EukGE-WS4\n",
      "2021-07-13 21:30:00,983 [INFO]: utils.py(detect_graph_process_pooling:70) >> Possible process pooling detected on:  EukGE-WS4\n",
      "2021-07-13 21:30:00,984 [INFO]: utils.py(detect_graph_process_pooling:70) >> Possible process pooling detected on:  EukGE-WS4\n",
      "2021-07-13 21:30:00,985 [INFO]: utils.py(detect_graph_process_pooling:70) >> Possible process pooling detected on:  EukGE-WS4\n",
      "2021-07-13 21:30:00,986 [INFO]: utils.py(detect_graph_process_pooling:70) >> Possible process pooling detected on:  EukGE-WS4\n",
      "2021-07-13 21:30:00,986 [INFO]: utils.py(detect_graph_process_pooling:70) >> Possible process pooling detected on:  EukGE-WS4\n",
      "2021-07-13 21:30:00,988 [INFO]: utils.py(detect_graph_process_pooling:70) >> Possible process pooling detected on:  EukGE-WS4\n",
      "2021-07-13 21:30:00,989 [INFO]: utils.py(detect_graph_process_pooling:70) >> Possible process pooling detected on:  EukGE-WS4\n",
      "2021-07-13 21:30:00,991 [INFO]: utils.py(detect_graph_process_pooling:70) >> Possible process pooling detected on:  EukGE-WS4\n",
      "2021-07-13 21:30:00,993 [INFO]: utils.py(detect_graph_process_pooling:70) >> Possible process pooling detected on:  EukGE-WS4\n",
      "2021-07-13 21:30:00,995 [INFO]: utils.py(detect_graph_process_pooling:70) >> Possible process pooling detected on:  EukGE-WS4\n",
      "2021-07-13 21:30:00,997 [INFO]: utils.py(detect_graph_process_pooling:70) >> Possible process pooling detected on:  EukGE-WS4\n",
      "2021-07-13 21:30:00,999 [INFO]: utils.py(detect_graph_process_pooling:70) >> Possible process pooling detected on:  EukGE-WS4\n",
      "2021-07-13 21:30:01,000 [INFO]: utils.py(detect_graph_process_pooling:70) >> Possible process pooling detected on:  EukGE-WS4\n",
      "2021-07-13 21:30:01,002 [INFO]: utils.py(detect_graph_process_pooling:70) >> Possible process pooling detected on:  EukGE-WS4\n",
      "2021-07-13 21:30:01,003 [INFO]: utils.py(detect_graph_process_pooling:70) >> Possible process pooling detected on:  EukGE-WS4\n",
      "2021-07-13 21:30:01,004 [INFO]: utils.py(detect_graph_process_pooling:70) >> Possible process pooling detected on:  EukGE-WS4\n",
      "2021-07-13 21:30:01,005 [INFO]: utils.py(detect_graph_process_pooling:70) >> Possible process pooling detected on:  EukGE-WS4\n",
      "2021-07-13 21:30:01,006 [INFO]: utils.py(detect_graph_process_pooling:70) >> Possible process pooling detected on:  EukGE-WS4\n",
      "2021-07-13 21:30:01,007 [INFO]: utils.py(detect_graph_process_pooling:70) >> Possible process pooling detected on:  EukGE-WS4\n"
     ]
    },
    {
     "name": "stderr",
     "output_type": "stream",
     "text": [
      "2021-07-13 21:30:01,008 [INFO]: utils.py(detect_graph_process_pooling:70) >> Possible process pooling detected on:  EukGE-WS4\n",
      "2021-07-13 21:30:01,009 [INFO]: utils.py(detect_graph_process_pooling:70) >> Possible process pooling detected on:  EukGE-WS4\n",
      "2021-07-13 21:30:01,010 [INFO]: utils.py(detect_graph_process_pooling:70) >> Possible process pooling detected on:  EukGE-WS4\n",
      "2021-07-13 21:30:01,011 [INFO]: utils.py(detect_graph_process_pooling:70) >> Possible process pooling detected on:  EukGE-WS4\n",
      "2021-07-13 21:30:01,012 [INFO]: utils.py(detect_graph_process_pooling:70) >> Possible process pooling detected on:  EukGE-WS4\n",
      "2021-07-13 21:30:01,013 [INFO]: utils.py(detect_graph_process_pooling:70) >> Possible process pooling detected on:  EukGE-WS4\n",
      "2021-07-13 21:30:01,014 [INFO]: utils.py(detect_graph_process_pooling:70) >> Possible process pooling detected on:  EukGE-WS4\n",
      "2021-07-13 21:30:01,015 [INFO]: utils.py(detect_graph_process_pooling:70) >> Possible process pooling detected on:  EukGE-WS4\n",
      "2021-07-13 21:30:01,037 [INFO]: utils.py(detect_graph_process_pooling:70) >> Possible process pooling detected on:  unknown protocol\n",
      "2021-07-13 21:30:01,038 [INFO]: utils.py(detect_isatab_process_pooling:88) >> Checking s_BII-S-2.txt\n",
      "2021-07-13 21:30:01,054 [INFO]: utils.py(detect_isatab_process_pooling:97) >> Checking a_microarray.txt\n",
      "2021-07-13 21:30:01,559 [INFO]: utils.py(detect_graph_process_pooling:70) >> Possible process pooling detected on:  biotin labeling\n",
      "2021-07-13 21:30:01,560 [INFO]: utils.py(detect_graph_process_pooling:70) >> Possible process pooling detected on:  biotin labeling\n",
      "2021-07-13 21:30:01,561 [INFO]: utils.py(detect_graph_process_pooling:70) >> Possible process pooling detected on:  EukGE-WS4\n",
      "2021-07-13 21:30:01,562 [INFO]: utils.py(detect_graph_process_pooling:70) >> Possible process pooling detected on:  EukGE-WS4\n",
      "2021-07-13 21:30:01,563 [INFO]: utils.py(detect_graph_process_pooling:70) >> Possible process pooling detected on:  EukGE-WS4\n",
      "2021-07-13 21:30:01,564 [INFO]: utils.py(detect_graph_process_pooling:70) >> Possible process pooling detected on:  EukGE-WS4\n",
      "2021-07-13 21:30:01,566 [INFO]: utils.py(detect_graph_process_pooling:70) >> Possible process pooling detected on:  EukGE-WS4\n",
      "2021-07-13 21:30:01,567 [INFO]: utils.py(detect_graph_process_pooling:70) >> Possible process pooling detected on:  EukGE-WS4\n",
      "2021-07-13 21:30:01,568 [INFO]: utils.py(detect_graph_process_pooling:70) >> Possible process pooling detected on:  EukGE-WS4\n",
      "2021-07-13 21:30:01,569 [INFO]: utils.py(detect_graph_process_pooling:70) >> Possible process pooling detected on:  EukGE-WS4\n",
      "2021-07-13 21:30:01,571 [INFO]: utils.py(detect_graph_process_pooling:70) >> Possible process pooling detected on:  EukGE-WS4\n",
      "2021-07-13 21:30:01,573 [INFO]: utils.py(detect_graph_process_pooling:70) >> Possible process pooling detected on:  EukGE-WS4\n",
      "2021-07-13 21:30:01,574 [INFO]: utils.py(detect_graph_process_pooling:70) >> Possible process pooling detected on:  EukGE-WS4\n",
      "2021-07-13 21:30:01,576 [INFO]: utils.py(detect_graph_process_pooling:70) >> Possible process pooling detected on:  EukGE-WS4\n",
      "2021-07-13 21:30:01,577 [INFO]: utils.py(detect_graph_process_pooling:70) >> Possible process pooling detected on:  EukGE-WS4\n",
      "2021-07-13 21:30:01,578 [INFO]: utils.py(detect_graph_process_pooling:70) >> Possible process pooling detected on:  EukGE-WS4\n",
      "2021-07-13 21:30:01,585 [INFO]: utils.py(detect_graph_process_pooling:70) >> Possible process pooling detected on:  unknown protocol\n",
      "2021-07-13 21:30:01,587 [INFO]: isatab.py(validate:4265) >> Loading... s_BII-S-2.txt\n",
      "2021-07-13 21:30:01,593 [INFO]: isatab.py(validate:4272) >> Validating s_BII-S-2.txt against default study table configuration\n",
      "2021-07-13 21:30:01,593 [INFO]: isatab.py(validate:4273) >> Checking Factor Value presence...\n",
      "2021-07-13 21:30:01,594 [INFO]: isatab.py(validate:4276) >> Checking required fields...\n",
      "2021-07-13 21:30:01,594 [INFO]: isatab.py(validate:4279) >> Checking generic fields...\n",
      "2021-07-13 21:30:01,596 [INFO]: isatab.py(validate:4287) >> Checking unit fields...\n",
      "2021-07-13 21:30:01,597 [INFO]: isatab.py(validate:4294) >> Checking protocol fields...\n",
      "2021-07-13 21:30:01,598 [WARNING]: isatab.py(check_protocol_fields:4030) >> (W) Protocol(s) of type ['sample collection'] defined in the ISA-configuration expected as a between 'Source Name' and 'Sample Name' but has not been found, in the file 's_BII-S-2.txt'\n",
      "2021-07-13 21:30:01,599 [WARNING]: isatab.py(validate:4303) >> (W) There are some protocol inconsistencies in s_BII-S-2.txt against Study Sample configuration\n",
      "2021-07-13 21:30:01,599 [INFO]: isatab.py(validate:4304) >> Checking ontology fields...\n",
      "2021-07-13 21:30:01,601 [INFO]: isatab.py(validate:4314) >> Checking study group size...\n",
      "2021-07-13 21:30:01,602 [INFO]: isatab.py(validate:4319) >> Finished validation on s_BII-S-2.txt\n",
      "2021-07-13 21:30:01,603 [INFO]: isatab.py(validate:4356) >> Loading... a_microarray.txt\n",
      "2021-07-13 21:30:01,612 [INFO]: isatab.py(validate:4368) >> Validating a_microarray.txt against assay table configuration (transcription profiling, DNA microarray)...\n",
      "2021-07-13 21:30:01,612 [INFO]: isatab.py(validate:4370) >> Checking Factor Value presence...\n",
      "2021-07-13 21:30:01,622 [WARNING]: isatab.py(check_factor_value_presence:3671) >> (W) Missing value for 'Factor Value[compound]' at row 0 in a_microarray.txt\n",
      "2021-07-13 21:30:01,623 [WARNING]: isatab.py(check_factor_value_presence:3671) >> (W) Missing value for 'Factor Value[compound]' at row 7 in a_microarray.txt\n",
      "2021-07-13 21:30:01,623 [INFO]: isatab.py(validate:4373) >> Checking required fields...\n",
      "2021-07-13 21:30:01,624 [INFO]: isatab.py(validate:4376) >> Checking generic fields...\n",
      "2021-07-13 21:30:01,644 [INFO]: isatab.py(validate:4387) >> Checking unit fields...\n",
      "2021-07-13 21:30:01,645 [INFO]: isatab.py(validate:4397) >> Checking protocol fields...\n",
      "2021-07-13 21:30:01,645 [WARNING]: isatab.py(check_protocol_fields:4030) >> (W) Protocol(s) of type ['RNA extraction'] defined in the ISA-configuration expected as a between 'Sample Name' and 'Extract Name' but has not been found, in the file 'a_microarray.txt'\n",
      "2021-07-13 21:30:01,646 [WARNING]: isatab.py(check_protocol_fields:4030) >> (W) Protocol(s) of type ['nucleic acid hybridization'] defined in the ISA-configuration expected as a between 'Labeled Extract Name' and 'Hybridization Assay Name' but has not been found, in the file 'a_microarray.txt'\n",
      "2021-07-13 21:30:01,647 [WARNING]: isatab.py(check_protocol_fields:4030) >> (W) Protocol(s) of type ['data collection'] defined in the ISA-configuration expected as a between 'Hybridization Assay Name' and 'Scan Name' but has not been found, in the file 'a_microarray.txt'\n",
      "2021-07-13 21:30:01,648 [WARNING]: isatab.py(check_protocol_fields:4030) >> (W) Protocol(s) of type ['normalization data transformation', 'data transformation'] defined in the ISA-configuration expected as a between 'Array Data File' and 'Data Transformation Name' but has not been found, in the file 'a_microarray.txt'\n",
      "2021-07-13 21:30:01,648 [WARNING]: isatab.py(validate:4408) >> (W) There are some protocol inconsistencies in a_microarray.txt against ('transcription profiling', 'DNA microarray') configuration\n",
      "2021-07-13 21:30:01,649 [INFO]: isatab.py(validate:4409) >> Checking ontology fields...\n",
      "2021-07-13 21:30:01,654 [INFO]: isatab.py(validate:4422) >> Checking study group size...\n",
      "2021-07-13 21:30:01,657 [INFO]: isatab.py(validate:4428) >> Finished validation on a_microarray.txt\n",
      "2021-07-13 21:30:01,658 [INFO]: isatab.py(validate:4433) >> Checking consistencies between study sample table and assay tables...\n",
      "2021-07-13 21:30:01,658 [INFO]: isatab.py(validate:4438) >> Finished checking study sample table against assay tables...\n",
      "2021-07-13 21:30:01,659 [INFO]: isatab.py(validate:4450) >> Finished validation...\n"
     ]
    }
   ],
   "source": [
    "my_json_report_bii_i_1 = isatab.validate(open(os.path.join('./BII-I-1/', 'i_investigation.txt')))"
   ]
  },
  {
   "cell_type": "code",
   "execution_count": 14,
   "metadata": {},
   "outputs": [
    {
     "name": "stderr",
     "output_type": "stream",
     "text": [
      "2021-07-13 21:30:01,665 [INFO]: isatab.py(validate:4212) >> Loading... ./BII-S-3/i_gilbert.txt\n",
      "2021-07-13 21:30:01,888 [INFO]: isatab.py(validate:4214) >> Running prechecks...\n",
      "2021-07-13 21:30:02,106 [WARNING]: isatab.py(check_protocol_usage:2532) >> (W) Some protocols declared in the investigation file are not used neither in the study file s_BII-S-3.txt nor in any related assay file: ['reverse transcription - standard procedure 5', 'nucleic acid extraction - standard procedure 2', 'sequence analysis - standard procedure 7']\n",
      "2021-07-13 21:30:02,203 [WARNING]: isatab.py(check_iso8601_date:2142) >> (W) Date 15/08/2008 does not conform to ISO8601 format\n",
      "2021-07-13 21:30:02,204 [WARNING]: isatab.py(check_iso8601_date:2142) >> (W) Date 15/08/2008 does not conform to ISO8601 format\n",
      "2021-07-13 21:30:02,205 [WARNING]: isatab.py(check_doi:2183) >> (W) DOI 10.1371/journal.pone.0003042 does not conform to DOI format\n",
      "2021-07-13 21:30:02,206 [WARNING]: isatab.py(check_doi:2183) >> (W) DOI 10.1111/j.1462-2920.2008.01745.x does not conform to DOI format\n",
      "2021-07-13 21:30:02,207 [INFO]: isatab.py(validate:4235) >> Finished prechecks...\n",
      "2021-07-13 21:30:02,208 [INFO]: isatab.py(validate:4236) >> Loading configurations found in /Users/philippe/.pyenv/versions/3.7.4/envs/isapi-testson374/src/isatools/isatools/resources/config/xml\n",
      "2021-07-13 21:30:02,231 [INFO]: isatab.py(validate:4241) >> Using configurations found in /Users/philippe/.pyenv/versions/3.7.4/envs/isapi-testson374/src/isatools/isatools/resources/config/xml\n",
      "2021-07-13 21:30:02,232 [INFO]: isatab.py(validate:4243) >> Checking investigation file against configuration...\n",
      "2021-07-13 21:30:02,233 [WARNING]: isatab.py(check_section_against_required_fields_one_value:3373) >> (W) A property value in Investigation Title of investigation file at column 1 is required\n",
      "2021-07-13 21:30:02,234 [WARNING]: isatab.py(check_section_against_required_fields_one_value:3373) >> (W) A property value in Investigation Description of investigation file at column 1 is required\n",
      "2021-07-13 21:30:02,237 [WARNING]: isatab.py(check_section_against_required_fields_one_value:3373) >> (W) A property value in Study Person Mid Initials of investigation file at column 2 is required\n",
      "2021-07-13 21:30:02,237 [WARNING]: isatab.py(check_section_against_required_fields_one_value:3373) >> (W) A property value in Study Person Mid Initials of investigation file at column 3 is required\n",
      "2021-07-13 21:30:02,238 [WARNING]: isatab.py(check_section_against_required_fields_one_value:3373) >> (W) A property value in Study Person Mid Initials of investigation file at column 4 is required\n",
      "2021-07-13 21:30:02,239 [WARNING]: isatab.py(check_section_against_required_fields_one_value:3373) >> (W) A property value in Study Person Mid Initials of investigation file at column 5 is required\n",
      "2021-07-13 21:30:02,239 [WARNING]: isatab.py(check_section_against_required_fields_one_value:3373) >> (W) A property value in Study Person Mid Initials of investigation file at column 6 is required\n",
      "2021-07-13 21:30:02,240 [WARNING]: isatab.py(check_section_against_required_fields_one_value:3373) >> (W) A property value in Study Person Mid Initials of investigation file at column 7 is required\n",
      "2021-07-13 21:30:02,241 [INFO]: isatab.py(validate:4246) >> Finished checking investigation file\n",
      "2021-07-13 21:30:02,242 [INFO]: isatab.py(validate:4265) >> Loading... s_BII-S-3.txt\n",
      "2021-07-13 21:30:02,271 [INFO]: isatab.py(validate:4272) >> Validating s_BII-S-3.txt against default study table configuration\n",
      "2021-07-13 21:30:02,272 [INFO]: isatab.py(validate:4273) >> Checking Factor Value presence...\n",
      "2021-07-13 21:30:02,323 [INFO]: isatab.py(validate:4276) >> Checking required fields...\n",
      "2021-07-13 21:30:02,324 [INFO]: isatab.py(validate:4279) >> Checking generic fields...\n",
      "2021-07-13 21:30:02,327 [INFO]: isatab.py(validate:4287) >> Checking unit fields...\n",
      "2021-07-13 21:30:02,328 [INFO]: isatab.py(validate:4294) >> Checking protocol fields...\n",
      "2021-07-13 21:30:02,329 [INFO]: isatab.py(validate:4304) >> Checking ontology fields...\n",
      "2021-07-13 21:30:02,332 [INFO]: isatab.py(validate:4314) >> Checking study group size...\n",
      "2021-07-13 21:30:02,336 [INFO]: isatab.py(validate:4319) >> Finished validation on s_BII-S-3.txt\n",
      "2021-07-13 21:30:02,337 [INFO]: isatab.py(validate:4356) >> Loading... a_gilbert-assay-Gx.txt\n",
      "2021-07-13 21:30:02,341 [INFO]: isatab.py(validate:4368) >> Validating a_gilbert-assay-Gx.txt against assay table configuration (metagenome sequencing, nucleotide sequencing)...\n",
      "2021-07-13 21:30:02,341 [INFO]: isatab.py(validate:4370) >> Checking Factor Value presence...\n",
      "2021-07-13 21:30:02,342 [INFO]: isatab.py(validate:4373) >> Checking required fields...\n",
      "2021-07-13 21:30:02,342 [INFO]: isatab.py(validate:4376) >> Checking generic fields...\n",
      "2021-07-13 21:30:02,343 [WARNING]: isatab.py(check_single_field:3836) >> (W) Invalid value 'WGS' for type 'list' of the field 'Parameter Value[library strategy]'\n",
      "2021-07-13 21:30:02,344 [WARNING]: isatab.py(check_single_field:3839) >> (W) Value must be one of: AMPLICON,OTHER\n",
      "2021-07-13 21:30:02,345 [WARNING]: isatab.py(validate:4386) >> (W) There are some field value inconsistencies in a_gilbert-assay-Gx.txt against ('metagenome sequencing', 'nucleotide sequencing') configuration\n",
      "2021-07-13 21:30:02,346 [INFO]: isatab.py(validate:4387) >> Checking unit fields...\n",
      "2021-07-13 21:30:02,347 [INFO]: isatab.py(validate:4397) >> Checking protocol fields...\n",
      "2021-07-13 21:30:02,348 [INFO]: isatab.py(validate:4409) >> Checking ontology fields...\n",
      "2021-07-13 21:30:02,349 [INFO]: isatab.py(validate:4422) >> Checking study group size...\n",
      "2021-07-13 21:30:02,350 [INFO]: isatab.py(validate:4428) >> Finished validation on a_gilbert-assay-Gx.txt\n",
      "2021-07-13 21:30:02,350 [INFO]: isatab.py(validate:4433) >> Checking consistencies between study sample table and assay tables...\n",
      "2021-07-13 21:30:02,351 [INFO]: isatab.py(validate:4438) >> Finished checking study sample table against assay tables...\n",
      "2021-07-13 21:30:02,351 [INFO]: isatab.py(validate:4356) >> Loading... a_gilbert-assay-Tx.txt\n",
      "2021-07-13 21:30:02,358 [INFO]: isatab.py(validate:4368) >> Validating a_gilbert-assay-Tx.txt against assay table configuration (transcription profiling, nucleotide sequencing)...\n",
      "2021-07-13 21:30:02,358 [INFO]: isatab.py(validate:4370) >> Checking Factor Value presence...\n",
      "2021-07-13 21:30:02,359 [INFO]: isatab.py(validate:4373) >> Checking required fields...\n",
      "2021-07-13 21:30:02,359 [INFO]: isatab.py(validate:4376) >> Checking generic fields...\n",
      "2021-07-13 21:30:02,386 [INFO]: isatab.py(validate:4387) >> Checking unit fields...\n",
      "2021-07-13 21:30:02,387 [INFO]: isatab.py(validate:4397) >> Checking protocol fields...\n",
      "2021-07-13 21:30:02,388 [INFO]: isatab.py(validate:4409) >> Checking ontology fields...\n",
      "2021-07-13 21:30:02,389 [INFO]: isatab.py(validate:4422) >> Checking study group size...\n",
      "2021-07-13 21:30:02,389 [INFO]: isatab.py(validate:4428) >> Finished validation on a_gilbert-assay-Tx.txt\n",
      "2021-07-13 21:30:02,390 [INFO]: isatab.py(validate:4433) >> Checking consistencies between study sample table and assay tables...\n",
      "2021-07-13 21:30:02,391 [INFO]: isatab.py(validate:4438) >> Finished checking study sample table against assay tables...\n",
      "2021-07-13 21:30:03,180 [INFO]: utils.py(detect_isatab_process_pooling:88) >> Checking s_BII-S-3.txt\n",
      "2021-07-13 21:30:03,233 [INFO]: utils.py(detect_isatab_process_pooling:97) >> Checking a_gilbert-assay-Gx.txt\n",
      "2021-07-13 21:30:03,341 [INFO]: utils.py(detect_graph_process_pooling:70) >> Possible process pooling detected on:  library construction\n",
      "2021-07-13 21:30:03,343 [INFO]: utils.py(detect_graph_process_pooling:70) >> Possible process pooling detected on:  library construction\n",
      "2021-07-13 21:30:03,346 [INFO]: utils.py(detect_graph_process_pooling:70) >> Possible process pooling detected on:  library construction\n",
      "2021-07-13 21:30:03,349 [INFO]: utils.py(detect_graph_process_pooling:70) >> Possible process pooling detected on:  library construction\n",
      "2021-07-13 21:30:03,355 [INFO]: utils.py(detect_isatab_process_pooling:97) >> Checking a_gilbert-assay-Tx.txt\n",
      "2021-07-13 21:30:03,798 [INFO]: utils.py(detect_graph_process_pooling:70) >> Possible process pooling detected on:  library construction\n"
     ]
    },
    {
     "name": "stderr",
     "output_type": "stream",
     "text": [
      "2021-07-13 21:30:03,804 [INFO]: utils.py(detect_graph_process_pooling:70) >> Possible process pooling detected on:  library construction\n",
      "2021-07-13 21:30:03,811 [INFO]: utils.py(detect_graph_process_pooling:70) >> Possible process pooling detected on:  library construction\n",
      "2021-07-13 21:30:03,817 [INFO]: utils.py(detect_graph_process_pooling:70) >> Possible process pooling detected on:  library construction\n",
      "2021-07-13 21:30:03,836 [INFO]: isatab.py(validate:4450) >> Finished validation...\n"
     ]
    }
   ],
   "source": [
    "my_json_report_bii_s_3 = isatab.validate(open(os.path.join('./BII-S-3/', 'i_gilbert.txt')))"
   ]
  },
  {
   "cell_type": "code",
   "execution_count": 15,
   "metadata": {},
   "outputs": [
    {
     "name": "stderr",
     "output_type": "stream",
     "text": [
      "2021-07-13 21:30:03,845 [INFO]: isatab.py(validate:4212) >> Loading... ./BII-S-4/i_investigation.txt\n",
      "2021-07-13 21:30:03,987 [INFO]: isatab.py(validate:4214) >> Running prechecks...\n",
      "2021-07-13 21:30:04,053 [WARNING]: isatab.py(check_protocol_usage:2532) >> (W) Some protocols declared in the investigation file are not used neither in the study file s_BII-S-4.txt nor in any related assay file: ['Duplex-Specific-Nuclease-normalisation ']\n",
      "2021-07-13 21:30:04,082 [INFO]: isatab.py(validate:4235) >> Finished prechecks...\n",
      "2021-07-13 21:30:04,082 [INFO]: isatab.py(validate:4236) >> Loading configurations found in /Users/philippe/.pyenv/versions/3.7.4/envs/isapi-testson374/src/isatools/isatools/resources/config/xml\n",
      "2021-07-13 21:30:04,102 [INFO]: isatab.py(validate:4241) >> Using configurations found in /Users/philippe/.pyenv/versions/3.7.4/envs/isapi-testson374/src/isatools/isatools/resources/config/xml\n",
      "2021-07-13 21:30:04,103 [INFO]: isatab.py(validate:4243) >> Checking investigation file against configuration...\n",
      "2021-07-13 21:30:04,106 [WARNING]: isatab.py(check_section_against_required_fields_one_value:3373) >> (W) A property value in Study Person Mid Initials of investigation file at column 1 is required\n",
      "2021-07-13 21:30:04,107 [WARNING]: isatab.py(check_section_against_required_fields_one_value:3373) >> (W) A property value in Study Person Mid Initials of investigation file at column 2 is required\n",
      "2021-07-13 21:30:04,107 [INFO]: isatab.py(validate:4246) >> Finished checking investigation file\n",
      "2021-07-13 21:30:04,108 [INFO]: isatab.py(validate:4265) >> Loading... s_BII-S-4.txt\n",
      "2021-07-13 21:30:04,117 [INFO]: isatab.py(validate:4272) >> Validating s_BII-S-4.txt against default study table configuration\n",
      "2021-07-13 21:30:04,118 [INFO]: isatab.py(validate:4273) >> Checking Factor Value presence...\n",
      "2021-07-13 21:30:04,118 [INFO]: isatab.py(validate:4276) >> Checking required fields...\n",
      "2021-07-13 21:30:04,119 [INFO]: isatab.py(validate:4279) >> Checking generic fields...\n",
      "2021-07-13 21:30:04,120 [INFO]: isatab.py(validate:4287) >> Checking unit fields...\n",
      "2021-07-13 21:30:04,121 [INFO]: isatab.py(validate:4294) >> Checking protocol fields...\n",
      "2021-07-13 21:30:04,122 [INFO]: isatab.py(validate:4304) >> Checking ontology fields...\n",
      "2021-07-13 21:30:04,124 [INFO]: isatab.py(validate:4314) >> Checking study group size...\n",
      "2021-07-13 21:30:04,125 [INFO]: isatab.py(validate:4319) >> Finished validation on s_BII-S-4.txt\n",
      "2021-07-13 21:30:04,125 [INFO]: isatab.py(validate:4356) >> Loading... a_genome_sequencing.txt\n",
      "2021-07-13 21:30:04,133 [INFO]: isatab.py(validate:4368) >> Validating a_genome_sequencing.txt against assay table configuration (transcription profiling, nucleotide sequencing)...\n",
      "2021-07-13 21:30:04,134 [INFO]: isatab.py(validate:4370) >> Checking Factor Value presence...\n",
      "2021-07-13 21:30:04,135 [INFO]: isatab.py(validate:4373) >> Checking required fields...\n",
      "2021-07-13 21:30:04,135 [INFO]: isatab.py(validate:4376) >> Checking generic fields...\n",
      "2021-07-13 21:30:04,139 [INFO]: isatab.py(validate:4387) >> Checking unit fields...\n",
      "2021-07-13 21:30:04,140 [INFO]: isatab.py(validate:4397) >> Checking protocol fields...\n",
      "2021-07-13 21:30:04,141 [WARNING]: isatab.py(check_protocol_fields:4030) >> (W) Protocol(s) of type ['nucleic acid extraction'] defined in the ISA-configuration expected as a between 'Sample Name' and 'Extract Name' but has not been found, in the file 'a_genome_sequencing.txt'\n",
      "2021-07-13 21:30:04,142 [WARNING]: isatab.py(validate:4408) >> (W) There are some protocol inconsistencies in a_genome_sequencing.txt against ('transcription profiling', 'nucleotide sequencing') configuration\n",
      "2021-07-13 21:30:04,142 [INFO]: isatab.py(validate:4409) >> Checking ontology fields...\n",
      "2021-07-13 21:30:04,143 [INFO]: isatab.py(validate:4422) >> Checking study group size...\n",
      "2021-07-13 21:30:04,143 [INFO]: isatab.py(validate:4428) >> Finished validation on a_genome_sequencing.txt\n",
      "2021-07-13 21:30:04,144 [INFO]: isatab.py(validate:4433) >> Checking consistencies between study sample table and assay tables...\n",
      "2021-07-13 21:30:04,145 [INFO]: isatab.py(validate:4438) >> Finished checking study sample table against assay tables...\n",
      "2021-07-13 21:30:04,404 [INFO]: utils.py(detect_isatab_process_pooling:88) >> Checking s_BII-S-4.txt\n",
      "2021-07-13 21:30:04,413 [INFO]: utils.py(detect_isatab_process_pooling:97) >> Checking a_genome_sequencing.txt\n",
      "2021-07-13 21:30:04,418 [INFO]: utils.py(detect_graph_process_pooling:70) >> Possible process pooling detected on:  library protocol\n",
      "2021-07-13 21:30:04,420 [INFO]: utils.py(detect_graph_process_pooling:70) >> Possible process pooling detected on:  sequencing protocol\n",
      "2021-07-13 21:30:04,421 [INFO]: isatab.py(validate:4450) >> Finished validation...\n"
     ]
    }
   ],
   "source": [
    "my_json_report_bii_s_4 = isatab.validate(open(os.path.join('./BII-S-4/', 'i_investigation.txt')))"
   ]
  },
  {
   "cell_type": "code",
   "execution_count": 16,
   "metadata": {},
   "outputs": [
    {
     "name": "stderr",
     "output_type": "stream",
     "text": [
      "2021-07-13 21:30:04,428 [INFO]: isatab.py(validate:4212) >> Loading... ./BII-S-7/i_matteo.txt\n",
      "2021-07-13 21:30:04,569 [INFO]: isatab.py(validate:4214) >> Running prechecks...\n",
      "2021-07-13 21:30:04,690 [WARNING]: isatab.py(check_protocol_parameter_usage:2939) >> (W) Some protocol parameters declared in the investigation file are not used in any assay file: ['base caller']\n",
      "2021-07-13 21:30:04,691 [INFO]: isatab.py(validate:4235) >> Finished prechecks...\n",
      "2021-07-13 21:30:04,692 [INFO]: isatab.py(validate:4236) >> Loading configurations found in /Users/philippe/.pyenv/versions/3.7.4/envs/isapi-testson374/src/isatools/isatools/resources/config/xml\n",
      "2021-07-13 21:30:04,713 [INFO]: isatab.py(validate:4241) >> Using configurations found in /Users/philippe/.pyenv/versions/3.7.4/envs/isapi-testson374/src/isatools/isatools/resources/config/xml\n",
      "2021-07-13 21:30:04,714 [INFO]: isatab.py(validate:4243) >> Checking investigation file against configuration...\n",
      "2021-07-13 21:30:04,715 [WARNING]: isatab.py(check_section_against_required_fields_one_value:3373) >> (W) A property value in Investigation Title of investigation file at column 1 is required\n",
      "2021-07-13 21:30:04,716 [WARNING]: isatab.py(check_section_against_required_fields_one_value:3373) >> (W) A property value in Investigation Description of investigation file at column 1 is required\n",
      "2021-07-13 21:30:04,717 [WARNING]: isatab.py(check_section_against_required_fields_one_value:3373) >> (W) A property value in Study Publication DOI of investigation file at column 1 is required\n",
      "2021-07-13 21:30:04,719 [WARNING]: isatab.py(check_section_against_required_fields_one_value:3373) >> (W) A property value in Study Person Mid Initials of investigation file at column 1 is required\n",
      "2021-07-13 21:30:04,720 [WARNING]: isatab.py(check_section_against_required_fields_one_value:3373) >> (W) A property value in Study Person Mid Initials of investigation file at column 2 is required\n",
      "2021-07-13 21:30:04,720 [WARNING]: isatab.py(check_section_against_required_fields_one_value:3373) >> (W) A property value in Study Person Mid Initials of investigation file at column 3 is required\n",
      "2021-07-13 21:30:04,721 [WARNING]: isatab.py(check_section_against_required_fields_one_value:3373) >> (W) A property value in Study Person Mid Initials of investigation file at column 4 is required\n",
      "2021-07-13 21:30:04,721 [WARNING]: isatab.py(check_section_against_required_fields_one_value:3373) >> (W) A property value in Study Person Mid Initials of investigation file at column 5 is required\n",
      "2021-07-13 21:30:04,722 [WARNING]: isatab.py(check_section_against_required_fields_one_value:3373) >> (W) A property value in Study Person Mid Initials of investigation file at column 6 is required\n",
      "2021-07-13 21:30:04,723 [WARNING]: isatab.py(check_section_against_required_fields_one_value:3373) >> (W) A property value in Study Person Mid Initials of investigation file at column 7 is required\n",
      "2021-07-13 21:30:04,723 [WARNING]: isatab.py(check_section_against_required_fields_one_value:3373) >> (W) A property value in Study Person Mid Initials of investigation file at column 8 is required\n",
      "2021-07-13 21:30:04,724 [WARNING]: isatab.py(check_section_against_required_fields_one_value:3373) >> (W) A property value in Study Person Mid Initials of investigation file at column 9 is required\n",
      "2021-07-13 21:30:04,724 [WARNING]: isatab.py(check_section_against_required_fields_one_value:3373) >> (W) A property value in Study Person Mid Initials of investigation file at column 10 is required\n",
      "2021-07-13 21:30:04,725 [INFO]: isatab.py(validate:4246) >> Finished checking investigation file\n",
      "2021-07-13 21:30:04,726 [INFO]: isatab.py(validate:4265) >> Loading... s_BII-S-7.txt\n",
      "2021-07-13 21:30:04,740 [INFO]: isatab.py(validate:4272) >> Validating s_BII-S-7.txt against default study table configuration\n",
      "2021-07-13 21:30:04,740 [INFO]: isatab.py(validate:4273) >> Checking Factor Value presence...\n",
      "2021-07-13 21:30:04,747 [INFO]: isatab.py(validate:4276) >> Checking required fields...\n",
      "2021-07-13 21:30:04,748 [INFO]: isatab.py(validate:4279) >> Checking generic fields...\n",
      "2021-07-13 21:30:04,761 [INFO]: isatab.py(validate:4287) >> Checking unit fields...\n",
      "2021-07-13 21:30:04,762 [INFO]: isatab.py(validate:4294) >> Checking protocol fields...\n",
      "2021-07-13 21:30:04,763 [INFO]: isatab.py(validate:4304) >> Checking ontology fields...\n",
      "2021-07-13 21:30:04,772 [INFO]: isatab.py(validate:4314) >> Checking study group size...\n",
      "2021-07-13 21:30:04,775 [INFO]: isatab.py(validate:4319) >> Finished validation on s_BII-S-7.txt\n",
      "2021-07-13 21:30:04,776 [INFO]: isatab.py(validate:4356) >> Loading... a_matteo-assay-Gx.txt\n",
      "2021-07-13 21:30:04,784 [INFO]: isatab.py(validate:4368) >> Validating a_matteo-assay-Gx.txt against assay table configuration (environmental gene survey, nucleotide sequencing)...\n",
      "2021-07-13 21:30:04,785 [INFO]: isatab.py(validate:4370) >> Checking Factor Value presence...\n",
      "2021-07-13 21:30:04,786 [INFO]: isatab.py(validate:4373) >> Checking required fields...\n",
      "2021-07-13 21:30:04,786 [INFO]: isatab.py(validate:4376) >> Checking generic fields...\n",
      "2021-07-13 21:30:04,788 [WARNING]: isatab.py(check_single_field:3836) >> (W) Invalid value 'V6 and V5' for type 'list' of the field 'Parameter Value[target_subfragment]'\n",
      "2021-07-13 21:30:04,789 [WARNING]: isatab.py(check_single_field:3839) >> (W) Value must be one of: V6,V9,ITS\n",
      "2021-07-13 21:30:04,803 [WARNING]: isatab.py(validate:4386) >> (W) There are some field value inconsistencies in a_matteo-assay-Gx.txt against ('environmental gene survey', 'nucleotide sequencing') configuration\n",
      "2021-07-13 21:30:04,804 [INFO]: isatab.py(validate:4387) >> Checking unit fields...\n",
      "2021-07-13 21:30:04,805 [INFO]: isatab.py(validate:4397) >> Checking protocol fields...\n",
      "2021-07-13 21:30:04,807 [INFO]: isatab.py(validate:4409) >> Checking ontology fields...\n",
      "2021-07-13 21:30:04,807 [INFO]: isatab.py(validate:4422) >> Checking study group size...\n",
      "2021-07-13 21:30:04,808 [INFO]: isatab.py(validate:4428) >> Finished validation on a_matteo-assay-Gx.txt\n",
      "2021-07-13 21:30:04,808 [INFO]: isatab.py(validate:4433) >> Checking consistencies between study sample table and assay tables...\n",
      "2021-07-13 21:30:04,809 [INFO]: isatab.py(validate:4438) >> Finished checking study sample table against assay tables...\n",
      "2021-07-13 21:30:05,910 [INFO]: utils.py(detect_isatab_process_pooling:88) >> Checking s_BII-S-7.txt\n",
      "2021-07-13 21:30:06,092 [INFO]: utils.py(detect_isatab_process_pooling:97) >> Checking a_matteo-assay-Gx.txt\n",
      "2021-07-13 21:30:06,446 [INFO]: utils.py(detect_graph_process_pooling:70) >> Possible process pooling detected on:  PCR amplification\n",
      "2021-07-13 21:30:06,448 [INFO]: utils.py(detect_graph_process_pooling:70) >> Possible process pooling detected on:  PCR amplification\n",
      "2021-07-13 21:30:06,450 [INFO]: utils.py(detect_graph_process_pooling:70) >> Possible process pooling detected on:  PCR amplification\n",
      "2021-07-13 21:30:06,451 [INFO]: utils.py(detect_graph_process_pooling:70) >> Possible process pooling detected on:  PCR amplification\n",
      "2021-07-13 21:30:06,454 [INFO]: utils.py(detect_graph_process_pooling:70) >> Possible process pooling detected on:  PCR amplification\n",
      "2021-07-13 21:30:06,457 [INFO]: utils.py(detect_graph_process_pooling:70) >> Possible process pooling detected on:  PCR amplification\n",
      "2021-07-13 21:30:06,461 [INFO]: utils.py(detect_graph_process_pooling:70) >> Possible process pooling detected on:  PCR amplification\n",
      "2021-07-13 21:30:06,464 [INFO]: utils.py(detect_graph_process_pooling:70) >> Possible process pooling detected on:  PCR amplification\n",
      "2021-07-13 21:30:06,468 [INFO]: utils.py(detect_graph_process_pooling:70) >> Possible process pooling detected on:  PCR amplification\n",
      "2021-07-13 21:30:06,475 [INFO]: utils.py(detect_graph_process_pooling:70) >> Possible process pooling detected on:  PCR amplification\n",
      "2021-07-13 21:30:06,477 [INFO]: utils.py(detect_graph_process_pooling:70) >> Possible process pooling detected on:  PCR amplification\n",
      "2021-07-13 21:30:06,479 [INFO]: utils.py(detect_graph_process_pooling:70) >> Possible process pooling detected on:  PCR amplification\n",
      "2021-07-13 21:30:06,480 [INFO]: utils.py(detect_graph_process_pooling:70) >> Possible process pooling detected on:  PCR amplification\n"
     ]
    },
    {
     "name": "stderr",
     "output_type": "stream",
     "text": [
      "2021-07-13 21:30:06,482 [INFO]: utils.py(detect_graph_process_pooling:70) >> Possible process pooling detected on:  PCR amplification\n",
      "2021-07-13 21:30:06,484 [INFO]: utils.py(detect_graph_process_pooling:70) >> Possible process pooling detected on:  PCR amplification\n",
      "2021-07-13 21:30:06,485 [INFO]: utils.py(detect_graph_process_pooling:70) >> Possible process pooling detected on:  PCR amplification\n",
      "2021-07-13 21:30:06,486 [INFO]: utils.py(detect_graph_process_pooling:70) >> Possible process pooling detected on:  PCR amplification\n",
      "2021-07-13 21:30:06,488 [INFO]: utils.py(detect_graph_process_pooling:70) >> Possible process pooling detected on:  PCR amplification\n",
      "2021-07-13 21:30:06,490 [INFO]: utils.py(detect_graph_process_pooling:70) >> Possible process pooling detected on:  PCR amplification\n",
      "2021-07-13 21:30:06,492 [INFO]: utils.py(detect_graph_process_pooling:70) >> Possible process pooling detected on:  PCR amplification\n",
      "2021-07-13 21:30:06,494 [INFO]: utils.py(detect_graph_process_pooling:70) >> Possible process pooling detected on:  PCR amplification\n",
      "2021-07-13 21:30:06,496 [INFO]: utils.py(detect_graph_process_pooling:70) >> Possible process pooling detected on:  PCR amplification\n",
      "2021-07-13 21:30:06,497 [INFO]: utils.py(detect_graph_process_pooling:70) >> Possible process pooling detected on:  PCR amplification\n",
      "2021-07-13 21:30:06,498 [INFO]: utils.py(detect_graph_process_pooling:70) >> Possible process pooling detected on:  PCR amplification\n",
      "2021-07-13 21:30:06,500 [INFO]: utils.py(detect_graph_process_pooling:70) >> Possible process pooling detected on:  PCR amplification\n",
      "2021-07-13 21:30:06,501 [INFO]: utils.py(detect_graph_process_pooling:70) >> Possible process pooling detected on:  PCR amplification\n",
      "2021-07-13 21:30:06,504 [INFO]: utils.py(detect_graph_process_pooling:70) >> Possible process pooling detected on:  PCR amplification\n",
      "2021-07-13 21:30:06,506 [INFO]: utils.py(detect_graph_process_pooling:70) >> Possible process pooling detected on:  PCR amplification\n",
      "2021-07-13 21:30:06,508 [INFO]: utils.py(detect_graph_process_pooling:70) >> Possible process pooling detected on:  PCR amplification\n",
      "2021-07-13 21:30:06,532 [INFO]: isatab.py(validate:4450) >> Finished validation...\n"
     ]
    }
   ],
   "source": [
    "my_json_report_bii_s_7 = isatab.validate(open(os.path.join('./BII-S-7/', 'i_matteo.txt')))"
   ]
  },
  {
   "cell_type": "code",
   "execution_count": 17,
   "metadata": {},
   "outputs": [
    {
     "data": {
      "text/plain": [
       "{'errors': [],\n",
       " 'warnings': [{'message': 'A required property is missing',\n",
       "   'supplemental': 'A property value in Investigation Title of investigation file at column 1 is required',\n",
       "   'code': 4003},\n",
       "  {'message': 'A required property is missing',\n",
       "   'supplemental': 'A property value in Investigation Description of investigation file at column 1 is required',\n",
       "   'code': 4003},\n",
       "  {'message': 'A required property is missing',\n",
       "   'supplemental': 'A property value in Study Publication DOI of investigation file at column 1 is required',\n",
       "   'code': 4003},\n",
       "  {'message': 'A required property is missing',\n",
       "   'supplemental': 'A property value in Study Person Mid Initials of investigation file at column 1 is required',\n",
       "   'code': 4003},\n",
       "  {'message': 'A required property is missing',\n",
       "   'supplemental': 'A property value in Study Person Mid Initials of investigation file at column 2 is required',\n",
       "   'code': 4003},\n",
       "  {'message': 'A required property is missing',\n",
       "   'supplemental': 'A property value in Study Person Mid Initials of investigation file at column 3 is required',\n",
       "   'code': 4003},\n",
       "  {'message': 'A required property is missing',\n",
       "   'supplemental': 'A property value in Study Person Mid Initials of investigation file at column 4 is required',\n",
       "   'code': 4003},\n",
       "  {'message': 'A required property is missing',\n",
       "   'supplemental': 'A property value in Study Person Mid Initials of investigation file at column 5 is required',\n",
       "   'code': 4003},\n",
       "  {'message': 'A required property is missing',\n",
       "   'supplemental': 'A property value in Study Person Mid Initials of investigation file at column 6 is required',\n",
       "   'code': 4003},\n",
       "  {'message': 'A required property is missing',\n",
       "   'supplemental': 'A property value in Study Person Mid Initials of investigation file at column 7 is required',\n",
       "   'code': 4003},\n",
       "  {'message': 'A required property is missing',\n",
       "   'supplemental': 'A property value in Study Person Mid Initials of investigation file at column 8 is required',\n",
       "   'code': 4003},\n",
       "  {'message': 'A required property is missing',\n",
       "   'supplemental': 'A property value in Study Person Mid Initials of investigation file at column 9 is required',\n",
       "   'code': 4003},\n",
       "  {'message': 'A required property is missing',\n",
       "   'supplemental': 'A property value in Study Person Mid Initials of investigation file at column 10 is required',\n",
       "   'code': 4003},\n",
       "  {'message': 'A value does not correspond to the correct data type',\n",
       "   'supplemental': \"Invalid value 'V6 and V5' for type 'list' of the field 'Parameter Value[target_subfragment]'\",\n",
       "   'code': 4011}],\n",
       " 'info': [{'message': 'Found 2 study groups in s_BII-S-7.txt',\n",
       "   'supplemental': 'Found 2 study groups in s_BII-S-7.txt',\n",
       "   'code': 5001},\n",
       "  {'message': 'Found -1 study groups in a_matteo-assay-Gx.txt',\n",
       "   'supplemental': 'Found -1 study groups in a_matteo-assay-Gx.txt',\n",
       "   'code': 5001}],\n",
       " 'validation_finished': True}"
      ]
     },
     "execution_count": 17,
     "metadata": {},
     "output_type": "execute_result"
    }
   ],
   "source": [
    "my_json_report_bii_s_7"
   ]
  },
  {
   "cell_type": "markdown",
   "metadata": {},
   "source": [
    "- This `Validation Report` shows that No Error has been logged\n",
    "- The rest of the report consists in warnings meant to draw the attention of the curator to elements which may be provided but which do not break the ISA syntax.\n",
    "- Notice the `study group` information reported on both study and assay files. If ISA `Factor Value[]` fields are found present in the `ISA Study` or ` ISA Assay` tables, the validator will try to identify the set of unique `Factor Value` combination defining a `Study Group`.\n",
    "    - When no `Factor Value` are found in a ISA `Study` or `Assay` table, the value is left to its default value: -1, which means that `No Study Group` have been found.\n",
    "    - ISA **strongly** encourages to declare Study Group using ISA Factor Value to unambiguously identify the Independent Variables of an experiment.\n",
    "    "
   ]
  },
  {
   "cell_type": "markdown",
   "metadata": {},
   "source": [
    "## 4. How does a validation failure looks like ?"
   ]
  },
  {
   "cell_type": "markdown",
   "metadata": {},
   "source": [
    "### BII-S-5 contains an error located in the `i_investigation.txt` file of the submission"
   ]
  },
  {
   "cell_type": "code",
   "execution_count": 18,
   "metadata": {},
   "outputs": [
    {
     "name": "stderr",
     "output_type": "stream",
     "text": [
      "2021-07-13 21:30:06,547 [INFO]: isatab.py(validate:4212) >> Loading... ./BII-S-5/i_investigation.txt\n",
      "2021-07-13 21:30:06,721 [INFO]: isatab.py(validate:4214) >> Running prechecks...\n",
      "2021-07-13 21:30:06,809 [WARNING]: isatab.py(check_protocol_usage:2532) >> (W) Some protocols declared in the investigation file are not used neither in the study file s_001456_GCAT_sample.txt nor in any related assay file: ['sample collection']\n",
      "2021-07-13 21:30:06,874 [WARNING]: isatab.py(check_doi:2183) >> (W) DOI 10.1186/1471-2164-10-36 does not conform to DOI format\n",
      "2021-07-13 21:30:06,875 [INFO]: isatab.py(validate:4235) >> Finished prechecks...\n",
      "2021-07-13 21:30:06,876 [INFO]: isatab.py(validate:4236) >> Loading configurations found in /Users/philippe/.pyenv/versions/3.7.4/envs/isapi-testson374/src/isatools/isatools/resources/config/xml\n",
      "2021-07-13 21:30:06,914 [INFO]: isatab.py(validate:4241) >> Using configurations found in /Users/philippe/.pyenv/versions/3.7.4/envs/isapi-testson374/src/isatools/isatools/resources/config/xml\n",
      "2021-07-13 21:30:06,916 [INFO]: isatab.py(validate:4243) >> Checking investigation file against configuration...\n",
      "2021-07-13 21:30:06,921 [WARNING]: isatab.py(check_section_against_required_fields_one_value:3373) >> (W) A property value in Study Person Mid Initials of investigation file at column 1 is required\n",
      "2021-07-13 21:30:06,924 [INFO]: isatab.py(validate:4246) >> Finished checking investigation file\n",
      "2021-07-13 21:30:06,931 [INFO]: isatab.py(validate:4265) >> Loading... s_001456_GCAT_sample.txt\n",
      "2021-07-13 21:30:06,961 [INFO]: isatab.py(validate:4272) >> Validating s_001456_GCAT_sample.txt against default study table configuration\n",
      "2021-07-13 21:30:06,963 [INFO]: isatab.py(validate:4273) >> Checking Factor Value presence...\n",
      "2021-07-13 21:30:06,968 [INFO]: isatab.py(validate:4276) >> Checking required fields...\n",
      "2021-07-13 21:30:06,971 [INFO]: isatab.py(validate:4279) >> Checking generic fields...\n",
      "2021-07-13 21:30:06,974 [INFO]: isatab.py(validate:4287) >> Checking unit fields...\n",
      "2021-07-13 21:30:06,975 [INFO]: isatab.py(validate:4294) >> Checking protocol fields...\n",
      "2021-07-13 21:30:06,977 [WARNING]: isatab.py(check_protocol_fields:4030) >> (W) Protocol(s) of type ['sample collection'] defined in the ISA-configuration expected as a between 'Source Name' and 'Sample Name' but has not been found, in the file 's_001456_GCAT_sample.txt'\n",
      "2021-07-13 21:30:06,978 [WARNING]: isatab.py(validate:4303) >> (W) There are some protocol inconsistencies in s_001456_GCAT_sample.txt against Study Sample configuration\n",
      "2021-07-13 21:30:06,979 [INFO]: isatab.py(validate:4304) >> Checking ontology fields...\n",
      "2021-07-13 21:30:06,982 [INFO]: isatab.py(validate:4314) >> Checking study group size...\n",
      "2021-07-13 21:30:06,983 [INFO]: isatab.py(validate:4319) >> Finished validation on s_001456_GCAT_sample.txt\n",
      "2021-07-13 21:30:06,984 [INFO]: isatab.py(validate:4356) >> Loading... a_001456_GCAT.txt\n",
      "2021-07-13 21:30:07,007 [INFO]: isatab.py(validate:4368) >> Validating a_001456_GCAT.txt against assay table configuration (genome sequencing, nucleotide sequencing)...\n",
      "2021-07-13 21:30:07,008 [INFO]: isatab.py(validate:4370) >> Checking Factor Value presence...\n",
      "2021-07-13 21:30:07,009 [INFO]: isatab.py(validate:4373) >> Checking required fields...\n",
      "2021-07-13 21:30:07,010 [INFO]: isatab.py(validate:4376) >> Checking generic fields...\n",
      "2021-07-13 21:30:07,014 [INFO]: isatab.py(validate:4387) >> Checking unit fields...\n",
      "2021-07-13 21:30:07,015 [INFO]: isatab.py(validate:4397) >> Checking protocol fields...\n",
      "2021-07-13 21:30:07,017 [WARNING]: isatab.py(check_protocol_fields:4030) >> (W) Protocol(s) of type ['nucleic acid extraction'] defined in the ISA-configuration expected as a between 'Sample Name' and 'Extract Name' but has not been found, in the file 'a_001456_GCAT.txt'\n",
      "2021-07-13 21:30:07,018 [WARNING]: isatab.py(validate:4408) >> (W) There are some protocol inconsistencies in a_001456_GCAT.txt against ('genome sequencing', 'nucleotide sequencing') configuration\n",
      "2021-07-13 21:30:07,019 [INFO]: isatab.py(validate:4409) >> Checking ontology fields...\n",
      "2021-07-13 21:30:07,020 [INFO]: isatab.py(validate:4422) >> Checking study group size...\n",
      "2021-07-13 21:30:07,021 [INFO]: isatab.py(validate:4428) >> Finished validation on a_001456_GCAT.txt\n",
      "2021-07-13 21:30:07,022 [INFO]: isatab.py(validate:4433) >> Checking consistencies between study sample table and assay tables...\n",
      "2021-07-13 21:30:07,023 [INFO]: isatab.py(validate:4438) >> Finished checking study sample table against assay tables...\n",
      "2021-07-13 21:30:07,253 [INFO]: isatab.py(preprocess:5294) >> warning: Protocol REF missing between 'Normalization Name' and 'Data Transformation Name'\n",
      "2021-07-13 21:30:07,253 [INFO]: isatab.py(preprocess:5339) >> Inserting protocol unknown in between Normalization Name and Data Transformation Name\n",
      "2021-07-13 21:30:07,298 [INFO]: utils.py(detect_isatab_process_pooling:88) >> Checking s_001456_GCAT_sample.txt\n",
      "2021-07-13 21:30:07,299 [INFO]: isatab.py(validate:4450) >> Finished validation...\n"
     ]
    }
   ],
   "source": [
    "my_json_report_bii_s_5 = isatab.validate(open(os.path.join('./BII-S-5/', 'i_investigation.txt')))"
   ]
  },
  {
   "cell_type": "code",
   "execution_count": 19,
   "metadata": {},
   "outputs": [
    {
     "data": {
      "text/plain": [
       "[]"
      ]
     },
     "execution_count": 19,
     "metadata": {},
     "output_type": "execute_result"
    }
   ],
   "source": [
    "my_json_report_bii_s_5[\"errors\"]"
   ]
  },
  {
   "cell_type": "markdown",
   "metadata": {},
   "source": [
    "- The Validator report the Error Array is not empty and shows the root cause of the syntactic validator error.\n",
    "- There is a typo in the Investigation file which affects 2 positions on the file for both Investigation and Study Object: \n",
    "<span style=\"color:red\">Publication **l**ist</span>. vs <span style=\"color:green\">Publication **L**ist</span>"
   ]
  },
  {
   "cell_type": "markdown",
   "metadata": {},
   "source": [
    "## About this notebook\n",
    "\n",
    "- authors: philippe.rocca-serra@oerc.ox.ac.uk, massimiliano.izzo@oerc.ox.ac.uk\n",
    "- license: CC-BY 4.0\n",
    "- support: isatools@googlegroups.com\n",
    "- issue tracker: https://github.com/ISA-tools/isa-api/issues"
   ]
  }
 ],
 "metadata": {
  "kernelspec": {
   "display_name": "Python 3",
   "language": "python",
   "name": "python3"
  },
  "language_info": {
   "codemirror_mode": {
    "name": "ipython",
    "version": 3
   },
   "file_extension": ".py",
   "mimetype": "text/x-python",
   "name": "python",
   "nbconvert_exporter": "python",
   "pygments_lexer": "ipython3",
   "version": "3.7.4"
  }
 },
 "nbformat": 4,
 "nbformat_minor": 4
}
