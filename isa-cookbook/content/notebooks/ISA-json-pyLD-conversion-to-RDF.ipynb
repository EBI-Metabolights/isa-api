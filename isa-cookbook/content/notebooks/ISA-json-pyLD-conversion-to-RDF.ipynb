{
 "cells": [
  {
   "cell_type": "code",
   "execution_count": null,
   "id": "c9f0b5e1",
   "metadata": {},
   "outputs": [],
   "source": [
    "import pyld\n",
    "import os\n",
    "import isatools\n",
    "import json\n",
    "\n",
    "from pyld import *"
   ]
  },
  {
   "cell_type": "code",
   "execution_count": null,
   "id": "25d98370",
   "metadata": {},
   "outputs": [],
   "source": [
    "with open(\"BII-S-3-ld-new-v1.json\") as LDin:\n",
    "    json_doc = json.load(LDin) "
   ]
  },
  {
   "cell_type": "code",
   "execution_count": null,
   "id": "7dcf9687",
   "metadata": {},
   "outputs": [],
   "source": [
    "# rdf = jsonld.normalize(json_doc, {'algorithm': 'URDNA2015', 'format': 'application/n-quads'})\n",
    "# # print only the first 1040 charcters of the rdf file for simplicity\n",
    "# print(rdf)\n",
    "\n",
    "rdf = jsonld.to_rdf(json_doc, {'format': 'application/n-quads', 'useRdfType': \"True\"})"
   ]
  },
  {
   "cell_type": "code",
   "execution_count": null,
   "id": "c49c4ec4",
   "metadata": {},
   "outputs": [],
   "source": [
    "rdf"
   ]
  },
  {
   "cell_type": "code",
   "execution_count": null,
   "id": "1866022b",
   "metadata": {},
   "outputs": [],
   "source": []
  }
 ],
 "metadata": {
  "kernelspec": {
   "display_name": "isa-api-py39",
   "language": "python",
   "name": "isa-api-py39"
  },
  "language_info": {
   "codemirror_mode": {
    "name": "ipython",
    "version": 3
   },
   "file_extension": ".py",
   "mimetype": "text/x-python",
   "name": "python",
   "nbconvert_exporter": "python",
   "pygments_lexer": "ipython3",
   "version": "3.9.0"
  }
 },
 "nbformat": 4,
 "nbformat_minor": 5
}
